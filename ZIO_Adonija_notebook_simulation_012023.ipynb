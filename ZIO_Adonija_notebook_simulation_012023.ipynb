{
 "cells": [
  {
   "cell_type": "markdown",
   "id": "f5d46969",
   "metadata": {},
   "source": [
    "<div>\n",
    "<h1 style=\"background-color:#82e0aa   ;padding:20px;border-radius:10px;border:3px solid #3339ff;color:#21618c  ;text-align:center; font-family: Babas; font-size: 3.0em;\" > Segmentation of e-commerce website customers |Monitoring\n",
    "\n",
    "<p style=\"text-align:center;\"><img src=\"https://d2mvnyejvnd30x.cloudfront.net/uploads/2022/08/Ecossistema-Olist.png\"   width=\"400\" height=\"250\"/></p></h1>\n",
    "</div>"
   ]
  },
  {
   "cell_type": "markdown",
   "id": "ea4eef3b",
   "metadata": {},
   "source": [
    "<a id=\"toc\"></a>\n",
    "# Table of Contents\n",
    "<a id=\"toc\"></a>\n",
    "- [1. Import libraries and data](#IR)\n",
    "    - [1.1 Import Libraries](#imp)\n",
    "    - [1.2 Data reading](#dr)\n",
    "- [2. Data Preprocessing](#dp)\n",
    "    - [2.1 Basic information of data](#basic)\n",
    "    - [2.2 Check for missing value](#missing)\n",
    "    - [2.3 Features preview](#fp)\n",
    "    - [2.3 Date Features](#2.3)\n",
    "        - [2.3.1 Day and desposit](#2.3.1)\n",
    "        - [2.3.2 Month and desposit](#2.3.2)\n",
    "        - [2.3.3 Day and Month](#2.3.3)\n",
    "    - [2.4 Numeric Features](#2.4)\n",
    "        - [2.4.1 Age and desposit](#2.4.1)\n",
    "        - [2.4.2 Balance and desposit](#2.4.2)\n",
    "        - [2.4.3 Duration and desposit](#2.4.3)\n",
    "        - [2.4.4 Campaign and desposit](#2.4.4)\n",
    "        - [2.4.5 Pdays and desposit](#2.4.5)\n",
    "        - [2.4.6 Previous and desposit](#2.4.6)\n",
    "    - [2.5 Categorical Features](#2.5)"
   ]
  },
  {
   "cell_type": "markdown",
   "id": "d4bd2291",
   "metadata": {},
   "source": [
    "<a id=\"IR\"></a>\n",
    "\n",
    "\n",
    "# <h1 style=\"background-color:#82e0aa ;padding:18px;border-radius:10px;border:3px solid #3339ff;color:#21618c;text-align:center\" >Import libraries and data</h1>\n"
   ]
  },
  {
   "cell_type": "markdown",
   "id": "bf2177b7",
   "metadata": {},
   "source": [
    "<a id=\"imp\"></a>\n",
    "## <span style=\"color:#33afff  ;\"> Import libraries </span>"
   ]
  },
  {
   "cell_type": "code",
   "execution_count": 1,
   "id": "c2944cb1",
   "metadata": {},
   "outputs": [],
   "source": [
    "#builtin\n",
    "import os\n",
    "\n",
    "#data\n",
    "import pandas as pd\n",
    "import numpy as np\n",
    "import missingno as msno\n",
    "from datetime import date,timedelta\n",
    "import plotly.express as px\n",
    "import plotly.graph_objects as go\n",
    "import seaborn as sns\n",
    "import matplotlib.pyplot as plt\n",
    "%matplotlib inline"
   ]
  },
  {
   "cell_type": "code",
   "execution_count": 2,
   "id": "bd42855c",
   "metadata": {},
   "outputs": [],
   "source": [
    "from sklearn.metrics import  adjusted_rand_score\n",
    "from yellowbrick.cluster import KElbowVisualizer,SilhouetteVisualizer,InterclusterDistance\n",
    "from sklearn.preprocessing import StandardScaler,  RobustScaler, MinMaxScaler\n",
    "from sklearn.decomposition import PCA\n",
    "from sklearn.cluster import KMeans\n",
    "from sklearn.metrics import silhouette_score\n",
    "import warnings\n",
    "warnings.filterwarnings('ignore')"
   ]
  },
  {
   "cell_type": "markdown",
   "id": "2bca70e4",
   "metadata": {},
   "source": [
    "<a id=\"dr\"></a>\n",
    "## <span style=\"color:#33afff  ;\"> Data reading </span>"
   ]
  },
  {
   "cell_type": "code",
   "execution_count": 3,
   "id": "97da1fd9-b1fb-4dc7-8dc9-20345ca80ca4",
   "metadata": {},
   "outputs": [],
   "source": [
    "df = pd.read_csv('olist_data.csv')"
   ]
  },
  {
   "cell_type": "code",
   "execution_count": 4,
   "id": "d852ad6f-137e-4989-ad63-2d69af9ee863",
   "metadata": {},
   "outputs": [
    {
     "data": {
      "text/plain": [
       "customer_id                              object\n",
       "customer_unique_id                       object\n",
       "customer_zip_code_prefix                  int64\n",
       "customer_city                            object\n",
       "customer_state                           object\n",
       "customer_lat                            float64\n",
       "customer_lng                            float64\n",
       "order_id                                 object\n",
       "order_status                             object\n",
       "order_purchase_timestamp         datetime64[ns]\n",
       "order_approved_at                datetime64[ns]\n",
       "order_delivered_carrier_date     datetime64[ns]\n",
       "order_delivered_customer_date    datetime64[ns]\n",
       "order_estimated_delivery_date    datetime64[ns]\n",
       "review_id                                object\n",
       "review_score                            float64\n",
       "review_comment_title                     object\n",
       "review_comment_message                   object\n",
       "review_creation_date             datetime64[ns]\n",
       "review_answer_timestamp          datetime64[ns]\n",
       "payment_sequential                      float64\n",
       "payment_type                             object\n",
       "payment_installments                    float64\n",
       "payment_value                           float64\n",
       "order_item_id                           float64\n",
       "product_id                               object\n",
       "seller_id                                object\n",
       "shipping_limit_date              datetime64[ns]\n",
       "price                                   float64\n",
       "freight_value                           float64\n",
       "product_category_name                    object\n",
       "product_name_lenght                     float64\n",
       "product_description_lenght              float64\n",
       "product_photos_qty                      float64\n",
       "product_weight_g                        float64\n",
       "product_length_cm                       float64\n",
       "product_height_cm                       float64\n",
       "product_width_cm                        float64\n",
       "seller_zip_code_prefix                  float64\n",
       "seller_city                              object\n",
       "seller_state                             object\n",
       "seller_lat                              float64\n",
       "seller_lng                              float64\n",
       "delivery_delay                            int64\n",
       "distance                                float64\n",
       "dtype: object"
      ]
     },
     "execution_count": 4,
     "metadata": {},
     "output_type": "execute_result"
    }
   ],
   "source": [
    "date_type= [\"order_purchase_timestamp\", \"order_approved_at\",  \"order_delivered_customer_date\", \"order_delivered_carrier_date\", \n",
    "             \"order_estimated_delivery_date\", \"review_creation_date\" , \"review_answer_timestamp\" , \"shipping_limit_date\"]\n",
    "\n",
    "for col in date_type:\n",
    "     df[col] = pd.to_datetime(df[col])\n",
    "df.dtypes"
   ]
  },
  {
   "cell_type": "markdown",
   "id": "77c3896d",
   "metadata": {},
   "source": [
    "<a id=\"dp\"></a>\n",
    "# <h1 style=\"background-color:#82e0aa ;padding:18px;border-radius:10px;border:3px solid #3339ff;color:#21618c;text-align:center\" >Monitoring</h1>\n"
   ]
  },
  {
   "cell_type": "markdown",
   "id": "086e7f89-c7e0-4870-a867-e4c69cceeab4",
   "metadata": {},
   "source": [
    "We collect the number of the needed 2018 weeks for monitoring and save it in list"
   ]
  },
  {
   "cell_type": "code",
   "execution_count": 5,
   "id": "eba145e6-d398-4829-ab46-72715179f3a0",
   "metadata": {},
   "outputs": [
    {
     "name": "stdout",
     "output_type": "stream",
     "text": [
      "[11, 12, 13, 14, 15, 16, 17, 18, 19, 20, 21, 22, 23, 24, 25, 26, 27, 28, 29, 30, 31, 32, 33, 34, 35]\n"
     ]
    }
   ],
   "source": [
    "week_selection = df[df['order_purchase_timestamp'].dt.year==2018].copy()\n",
    "week_selection[\"purchase_week\"] = week_selection[\"order_purchase_timestamp\"].dt.isocalendar().week\n",
    "weeks = list(week_selection.purchase_week.unique())\n",
    "weeks.sort()\n",
    "weeks = [i for i in weeks if i >10]\n",
    "print(weeks)"
   ]
  },
  {
   "cell_type": "code",
   "execution_count": 6,
   "id": "5b280693-790a-48f5-b937-a7a62eeb141a",
   "metadata": {},
   "outputs": [],
   "source": [
    "#Data selection\n",
    "select_F0= df[~((df['order_purchase_timestamp'].dt.isocalendar().year == 2018) & (df['order_purchase_timestamp'].dt.isocalendar().week > 10))].copy()\n",
    "\n",
    "#Data generation for the period\n",
    "F0 = select_F0.groupby(\"customer_unique_id\").agg(recency=(\"order_purchase_timestamp\",\n",
    "                                                          lambda x: (select_F0['order_purchase_timestamp'].max() + timedelta(days=1) - x.max()).days),\n",
    "                                                 frequency=(\"customer_id\",  \"nunique\"), \n",
    "                                                 monetary=(\"payment_value\", \"mean\"),\n",
    "                                                 score = (\"review_score\", \"mean\"), \n",
    "                                                 mean_price = (\"price\", \"mean\"),\n",
    "                                                 lenght = ('product_length_cm', \"mean\"),\n",
    "                                                 mean_distance = (\"distance\" , \"mean\")\n",
    "                                                )\n",
    "\n",
    "\n",
    "#Initial kmeans fitting\n",
    "kmeans_init = KMeans(n_clusters=6,  random_state=42) \n",
    "kmeans_init.fit(F0) \n",
    "F0[\"cluster\"] = kmeans_init.labels_\n",
    "C0 = F0[\"cluster\"]"
   ]
  },
  {
   "cell_type": "code",
   "execution_count": 7,
   "id": "32b4e7db-d488-46c2-a4eb-62be840201fd",
   "metadata": {},
   "outputs": [],
   "source": [
    "from sklearn.metrics import homogeneity_score, adjusted_rand_score, adjusted_mutual_info_score\n",
    "ari_score = {}\n",
    "for week in weeks:\n",
    "    #period selection \n",
    "    df_tmp = df[~((df['order_purchase_timestamp'].dt.isocalendar().year == 2018) & (df['order_purchase_timestamp'].dt.isocalendar().week > week))]\n",
    "    #Data generation for the period\n",
    "    rfm_tmp = df_tmp.groupby(\"customer_unique_id\").agg(recency=(\"order_purchase_timestamp\",\n",
    "                                                                lambda x: (df_tmp['order_purchase_timestamp'].max()\n",
    "                                                                           + timedelta(days=1) - x.max()).days),\n",
    "                                                  frequency=(\"customer_id\",  \"nunique\"), \n",
    "                                                  monetary=(\"payment_value\", \"mean\"),\n",
    "                                                  score = (\"review_score\", \"mean\"),\n",
    "                                                  mean_price = (\"price\", \"mean\"),\n",
    "                                                  lenght = ('product_length_cm', \"mean\"),\n",
    "                                                  mean_distance = (\"distance\" , \"mean\")\n",
    "                                                      )\n",
    "    \n",
    "    #ARI Score calculation and savind into dict\n",
    "\n",
    "    predicted = kmeans_init.predict(rfm_tmp)\n",
    "    kmeans_new = KMeans(n_clusters=6,  random_state=42 ) \n",
    "    kmeans_new.fit(rfm_tmp)\n",
    "    labels = kmeans_new.labels_\n",
    "    ari_week_score = adjusted_rand_score(labels, predicted)\n",
    "    ari_score[week] = ari_week_score"
   ]
  },
  {
   "cell_type": "code",
   "execution_count": 8,
   "id": "178a5388-a2cf-49c7-92f3-b50adaf65eef",
   "metadata": {},
   "outputs": [
    {
     "data": {
      "text/html": [
       "<div>\n",
       "<style scoped>\n",
       "    .dataframe tbody tr th:only-of-type {\n",
       "        vertical-align: middle;\n",
       "    }\n",
       "\n",
       "    .dataframe tbody tr th {\n",
       "        vertical-align: top;\n",
       "    }\n",
       "\n",
       "    .dataframe thead th {\n",
       "        text-align: right;\n",
       "    }\n",
       "</style>\n",
       "<table border=\"1\" class=\"dataframe\">\n",
       "  <thead>\n",
       "    <tr style=\"text-align: right;\">\n",
       "      <th></th>\n",
       "      <th>weeks</th>\n",
       "      <th>ARI</th>\n",
       "    </tr>\n",
       "  </thead>\n",
       "  <tbody>\n",
       "    <tr>\n",
       "      <th>0</th>\n",
       "      <td>11</td>\n",
       "      <td>0.989181</td>\n",
       "    </tr>\n",
       "    <tr>\n",
       "      <th>1</th>\n",
       "      <td>12</td>\n",
       "      <td>0.972361</td>\n",
       "    </tr>\n",
       "    <tr>\n",
       "      <th>2</th>\n",
       "      <td>13</td>\n",
       "      <td>0.967553</td>\n",
       "    </tr>\n",
       "    <tr>\n",
       "      <th>3</th>\n",
       "      <td>14</td>\n",
       "      <td>0.962709</td>\n",
       "    </tr>\n",
       "    <tr>\n",
       "      <th>4</th>\n",
       "      <td>15</td>\n",
       "      <td>0.953477</td>\n",
       "    </tr>\n",
       "    <tr>\n",
       "      <th>5</th>\n",
       "      <td>16</td>\n",
       "      <td>0.945301</td>\n",
       "    </tr>\n",
       "    <tr>\n",
       "      <th>6</th>\n",
       "      <td>17</td>\n",
       "      <td>0.938853</td>\n",
       "    </tr>\n",
       "    <tr>\n",
       "      <th>7</th>\n",
       "      <td>18</td>\n",
       "      <td>0.931120</td>\n",
       "    </tr>\n",
       "    <tr>\n",
       "      <th>8</th>\n",
       "      <td>19</td>\n",
       "      <td>0.927046</td>\n",
       "    </tr>\n",
       "    <tr>\n",
       "      <th>9</th>\n",
       "      <td>20</td>\n",
       "      <td>0.917882</td>\n",
       "    </tr>\n",
       "    <tr>\n",
       "      <th>10</th>\n",
       "      <td>21</td>\n",
       "      <td>0.897300</td>\n",
       "    </tr>\n",
       "    <tr>\n",
       "      <th>11</th>\n",
       "      <td>22</td>\n",
       "      <td>0.881932</td>\n",
       "    </tr>\n",
       "    <tr>\n",
       "      <th>12</th>\n",
       "      <td>23</td>\n",
       "      <td>0.866948</td>\n",
       "    </tr>\n",
       "    <tr>\n",
       "      <th>13</th>\n",
       "      <td>24</td>\n",
       "      <td>0.853971</td>\n",
       "    </tr>\n",
       "    <tr>\n",
       "      <th>14</th>\n",
       "      <td>25</td>\n",
       "      <td>0.843491</td>\n",
       "    </tr>\n",
       "    <tr>\n",
       "      <th>15</th>\n",
       "      <td>26</td>\n",
       "      <td>0.836494</td>\n",
       "    </tr>\n",
       "    <tr>\n",
       "      <th>16</th>\n",
       "      <td>27</td>\n",
       "      <td>0.828492</td>\n",
       "    </tr>\n",
       "    <tr>\n",
       "      <th>17</th>\n",
       "      <td>28</td>\n",
       "      <td>0.817170</td>\n",
       "    </tr>\n",
       "    <tr>\n",
       "      <th>18</th>\n",
       "      <td>29</td>\n",
       "      <td>0.808602</td>\n",
       "    </tr>\n",
       "    <tr>\n",
       "      <th>19</th>\n",
       "      <td>30</td>\n",
       "      <td>0.800400</td>\n",
       "    </tr>\n",
       "    <tr>\n",
       "      <th>20</th>\n",
       "      <td>31</td>\n",
       "      <td>0.793032</td>\n",
       "    </tr>\n",
       "    <tr>\n",
       "      <th>21</th>\n",
       "      <td>32</td>\n",
       "      <td>0.788138</td>\n",
       "    </tr>\n",
       "    <tr>\n",
       "      <th>22</th>\n",
       "      <td>33</td>\n",
       "      <td>0.784791</td>\n",
       "    </tr>\n",
       "    <tr>\n",
       "      <th>23</th>\n",
       "      <td>34</td>\n",
       "      <td>0.784546</td>\n",
       "    </tr>\n",
       "    <tr>\n",
       "      <th>24</th>\n",
       "      <td>35</td>\n",
       "      <td>0.779884</td>\n",
       "    </tr>\n",
       "  </tbody>\n",
       "</table>\n",
       "</div>"
      ],
      "text/plain": [
       "    weeks       ARI\n",
       "0      11  0.989181\n",
       "1      12  0.972361\n",
       "2      13  0.967553\n",
       "3      14  0.962709\n",
       "4      15  0.953477\n",
       "5      16  0.945301\n",
       "6      17  0.938853\n",
       "7      18  0.931120\n",
       "8      19  0.927046\n",
       "9      20  0.917882\n",
       "10     21  0.897300\n",
       "11     22  0.881932\n",
       "12     23  0.866948\n",
       "13     24  0.853971\n",
       "14     25  0.843491\n",
       "15     26  0.836494\n",
       "16     27  0.828492\n",
       "17     28  0.817170\n",
       "18     29  0.808602\n",
       "19     30  0.800400\n",
       "20     31  0.793032\n",
       "21     32  0.788138\n",
       "22     33  0.784791\n",
       "23     34  0.784546\n",
       "24     35  0.779884"
      ]
     },
     "execution_count": 8,
     "metadata": {},
     "output_type": "execute_result"
    }
   ],
   "source": [
    "ari = pd.DataFrame(list(ari_score.items()), columns=[\"weeks\", \"ARI\"])\n",
    "ari"
   ]
  },
  {
   "cell_type": "code",
   "execution_count": 9,
   "id": "65ddea9e-b8e4-41c6-aed9-43987bb71b6d",
   "metadata": {},
   "outputs": [
    {
     "data": {
      "image/png": "[encoded data removed]",
      "text/plain": [
       "<Figure size 1200x800 with 1 Axes>"
      ]
     },
     "metadata": {},
     "output_type": "display_data"
    }
   ],
   "source": [
    "# plot ARI Score\n",
    "fig = plt.figure(figsize=(12,8))\n",
    "sns.lineplot(data=ari, x=(ari.index+1), y=\"ARI\")\n",
    "plt.axhline(y=0.8, linestyle=\"--\", \n",
    "            color=\"r\",\n",
    "            xmax=1,\n",
    "            linewidth=1)\n",
    "plt.axvline(x=20, linestyle=\"--\", \n",
    "            color=\"r\",\n",
    "            ymax=1,\n",
    "            linewidth=1)\n",
    "plt.xlabel(\"weeks\")\n",
    "plt.ylabel(\"Score ARI\")\n",
    "plt.title(\"K-Means Monitoring\",\n",
    "          fontsize=18,\n",
    "          color=\"b\")\n",
    "plt.show()"
   ]
  }
 ],
 "metadata": {
  "kernelspec": {
   "display_name": "Python 3 (ipykernel)",
   "language": "python",
   "name": "python3"
  },
  "language_info": {
   "codemirror_mode": {
    "name": "ipython",
    "version": 3
   },
   "file_extension": ".py",
   "mimetype": "text/x-python",
   "name": "python",
   "nbconvert_exporter": "python",
   "pygments_lexer": "ipython3",
   "version": "3.8.16"
  },
  "vscode": {
   "interpreter": {
    "hash": "f6ba6ce970f86afa6dfece4816097c5c7e47bfc6e04710d5415156d0b0b92c38"
   }
  }
 },
 "nbformat": 4,
 "nbformat_minor": 5
}
