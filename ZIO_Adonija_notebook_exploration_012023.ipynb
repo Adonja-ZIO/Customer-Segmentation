{
 "cells": [
  {
   "cell_type": "markdown",
   "id": "f5d46969",
   "metadata": {},
   "source": [
    "<div>\n",
    "<h1 style=\"background-color:#82e0aa   ;padding:20px;border-radius:10px;border:3px solid #3339ff;color:#21618c  ;text-align:center; font-family: Babas; font-size: 3.0em;\" > Segmentation of e-commerce website customers |Exploratory Data Analysis (EDA)\n",
    "\n",
    "<p style=\"text-align:center;\"><img src=\"https://d2mvnyejvnd30x.cloudfront.net/uploads/2022/08/Ecossistema-Olist.png\"   width=\"400\" height=\"250\"/></p></h1>\n",
    "</div>"
   ]
  },
  {
   "cell_type": "markdown",
   "id": "ea4eef3b",
   "metadata": {},
   "source": [
    "<a id=\"toc\"></a>\n",
    "# Table of Contents\n",
    "<a id=\"toc\"></a>\n",
    "- [1. Import libraries and data](#IR)\n",
    "    - [1.1 Import Libraries](#imp)\n",
    "    - [1.2 Data reading](#dr)\n",
    "- [2. Data Preprocessing](#dp)\n",
    "    - [2.1 Basic information of data](#basic)\n",
    "    - [2.2 Datasets merging](#merge)\n",
    "- [3. First Visualization](#FV)\n",
    "    - [3.1 Histogramm](#hist)\n",
    "    - [3.2 Barplot](#barplot)\n",
    "    - [3.3 Outliers](#out)\n",
    "- [4 Feature Engineering and Visualization](#FEV)\n",
    "    - [4.1 Feature Engineering](#features)\n",
    "    - [4.2 Visualization](#viz)\n",
    "- [4 Export DataFrames](#export)"
   ]
  },
  {
   "cell_type": "markdown",
   "id": "d4bd2291",
   "metadata": {},
   "source": [
    "<a id=\"IR\"></a>\n",
    "\n",
    "\n",
    "# <h1 style=\"background-color:#82e0aa ;padding:18px;border-radius:10px;border:3px solid #3339ff;color:#21618c;text-align:center\" >Import libraries and data</h1>\n"
   ]
  },
  {
   "cell_type": "markdown",
   "id": "bf2177b7",
   "metadata": {},
   "source": [
    "<a id=\"imp\"></a>\n",
    "## <span style=\"color:#33afff  ;\"> Import libraries </span>"
   ]
  },
  {
   "cell_type": "code",
   "execution_count": 1,
   "id": "c2944cb1",
   "metadata": {
    "vscode": {
     "languageId": "python"
    }
   },
   "outputs": [],
   "source": [
    "#builtin\n",
    "import os\n",
    "\n",
    "#data\n",
    "import pandas as pd\n",
    "import numpy as np\n",
    "import missingno as msno\n",
    "from datetime import date,timedelta\n",
    "import plotly.express as px\n",
    "import plotly.figure_factory as ff\n",
    "import plotly.graph_objects as go\n",
    "import seaborn as sns\n",
    "import matplotlib.pyplot as plt\n",
    "%matplotlib inline\n",
    "\n",
    "\n",
    "#typing\n",
    "from typing import List, Union"
   ]
  },
  {
   "cell_type": "markdown",
   "id": "2bca70e4",
   "metadata": {},
   "source": [
    "<a id=\"dr\"></a>\n",
    "## <span style=\"color:#33afff  ;\"> Data reading </span>"
   ]
  },
  {
   "cell_type": "markdown",
   "id": "b7ed8b3e-ee01-468b-bad5-db8e78e84b1e",
   "metadata": {},
   "source": [
    "We load datasets files first then, we read them with pandas"
   ]
  },
  {
   "cell_type": "code",
   "execution_count": 2,
   "id": "b15605ef",
   "metadata": {
    "vscode": {
     "languageId": "python"
    }
   },
   "outputs": [],
   "source": [
    "os.listdir()\n",
    "path = \"data/\"\n",
    "file_1= \"olist_customers_dataset.csv\"\n",
    "file_2= \"olist_geolocation_dataset.csv\"\n",
    "file_3= \"olist_order_items_dataset.csv\"\n",
    "file_4= \"olist_order_payments_dataset.csv\"\n",
    "file_5= \"olist_order_reviews_dataset.csv\"\n",
    "file_6= \"olist_orders_dataset.csv\"\n",
    "file_7= \"olist_products_dataset.csv\"\n",
    "file_8= \"olist_sellers_dataset.csv\"\n",
    "file_9= \"product_category_name_translation.csv\""
   ]
  },
  {
   "cell_type": "code",
   "execution_count": 3,
   "id": "07b187c9",
   "metadata": {
    "vscode": {
     "languageId": "python"
    }
   },
   "outputs": [],
   "source": [
    "customer = pd.read_csv(path+file_1)\n",
    "geolocation = pd.read_csv(path+file_2)\n",
    "order_items = pd.read_csv(path+file_3)\n",
    "order_payment = pd.read_csv(path+file_4)\n",
    "order_reviews = pd.read_csv(path+file_5)\n",
    "orders =pd.read_csv(path+file_6)\n",
    "product = pd.read_csv(path+file_7)\n",
    "seller = pd.read_csv(path+file_8)\n",
    "category = pd.read_csv(path+file_9)"
   ]
  },
  {
   "cell_type": "markdown",
   "id": "8e314f6c-4eef-4c57-8d9a-b316e924d654",
   "metadata": {},
   "source": [
    "Let's look at these pandas tables"
   ]
  },
  {
   "cell_type": "markdown",
   "id": "320c105c-9c2d-4810-845e-d84c0d99bd01",
   "metadata": {},
   "source": [
    "<a href=\"#toc\" role=\"button\" aria-pressed=\"true\" >⬆️  Table of Contents  ⬆️</a>"
   ]
  },
  {
   "cell_type": "markdown",
   "id": "77c3896d",
   "metadata": {},
   "source": [
    "<a id=\"dp\"></a>\n",
    "# <h1 style=\"background-color:#82e0aa ;padding:18px;border-radius:10px;border:3px solid #3339ff;color:#21618c;text-align:center\" >Data Preprocessing</h1>\n"
   ]
  },
  {
   "cell_type": "markdown",
   "id": "5c3e08d7-61e3-4831-a50a-37411a487a6c",
   "metadata": {},
   "source": [
    "In this part, we'll look at the pandas table and then we will merge the data"
   ]
  },
  {
   "cell_type": "markdown",
   "id": "a1262220",
   "metadata": {},
   "source": [
    "<a id=\"basic\"></a>\n",
    "## <span style=\"color:#33afff  ;\">  Basic information of data </span>"
   ]
  },
  {
   "cell_type": "markdown",
   "id": "3ff705d3-48a6-4bc8-81ee-81dbc4ffb2c5",
   "metadata": {},
   "source": [
    "Let's get the basic information on each dataset"
   ]
  },
  {
   "cell_type": "code",
   "execution_count": 4,
   "id": "76e39652",
   "metadata": {
    "scrolled": true,
    "vscode": {
     "languageId": "python"
    }
   },
   "outputs": [
    {
     "data": {
      "text/html": [
       "<div>\n",
       "<style scoped>\n",
       "    .dataframe tbody tr th:only-of-type {\n",
       "        vertical-align: middle;\n",
       "    }\n",
       "\n",
       "    .dataframe tbody tr th {\n",
       "        vertical-align: top;\n",
       "    }\n",
       "\n",
       "    .dataframe thead th {\n",
       "        text-align: right;\n",
       "    }\n",
       "</style>\n",
       "<table border=\"1\" class=\"dataframe\">\n",
       "  <thead>\n",
       "    <tr style=\"text-align: right;\">\n",
       "      <th></th>\n",
       "      <th>customer_id</th>\n",
       "      <th>customer_unique_id</th>\n",
       "      <th>customer_zip_code_prefix</th>\n",
       "      <th>customer_city</th>\n",
       "      <th>customer_state</th>\n",
       "    </tr>\n",
       "  </thead>\n",
       "  <tbody>\n",
       "    <tr>\n",
       "      <th>0</th>\n",
       "      <td>06b8999e2fba1a1fbc88172c00ba8bc7</td>\n",
       "      <td>861eff4711a542e4b93843c6dd7febb0</td>\n",
       "      <td>14409</td>\n",
       "      <td>franca</td>\n",
       "      <td>SP</td>\n",
       "    </tr>\n",
       "    <tr>\n",
       "      <th>1</th>\n",
       "      <td>18955e83d337fd6b2def6b18a428ac77</td>\n",
       "      <td>290c77bc529b7ac935b93aa66c333dc3</td>\n",
       "      <td>9790</td>\n",
       "      <td>sao bernardo do campo</td>\n",
       "      <td>SP</td>\n",
       "    </tr>\n",
       "    <tr>\n",
       "      <th>2</th>\n",
       "      <td>4e7b3e00288586ebd08712fdd0374a03</td>\n",
       "      <td>060e732b5b29e8181a18229c7b0b2b5e</td>\n",
       "      <td>1151</td>\n",
       "      <td>sao paulo</td>\n",
       "      <td>SP</td>\n",
       "    </tr>\n",
       "    <tr>\n",
       "      <th>3</th>\n",
       "      <td>b2b6027bc5c5109e529d4dc6358b12c3</td>\n",
       "      <td>259dac757896d24d7702b9acbbff3f3c</td>\n",
       "      <td>8775</td>\n",
       "      <td>mogi das cruzes</td>\n",
       "      <td>SP</td>\n",
       "    </tr>\n",
       "    <tr>\n",
       "      <th>4</th>\n",
       "      <td>4f2d8ab171c80ec8364f7c12e35b23ad</td>\n",
       "      <td>345ecd01c38d18a9036ed96c73b8d066</td>\n",
       "      <td>13056</td>\n",
       "      <td>campinas</td>\n",
       "      <td>SP</td>\n",
       "    </tr>\n",
       "  </tbody>\n",
       "</table>\n",
       "</div>"
      ],
      "text/plain": [
       "                        customer_id                customer_unique_id   \n",
       "0  06b8999e2fba1a1fbc88172c00ba8bc7  861eff4711a542e4b93843c6dd7febb0  \\\n",
       "1  18955e83d337fd6b2def6b18a428ac77  290c77bc529b7ac935b93aa66c333dc3   \n",
       "2  4e7b3e00288586ebd08712fdd0374a03  060e732b5b29e8181a18229c7b0b2b5e   \n",
       "3  b2b6027bc5c5109e529d4dc6358b12c3  259dac757896d24d7702b9acbbff3f3c   \n",
       "4  4f2d8ab171c80ec8364f7c12e35b23ad  345ecd01c38d18a9036ed96c73b8d066   \n",
       "\n",
       "   customer_zip_code_prefix          customer_city customer_state  \n",
       "0                     14409                 franca             SP  \n",
       "1                      9790  sao bernardo do campo             SP  \n",
       "2                      1151              sao paulo             SP  \n",
       "3                      8775        mogi das cruzes             SP  \n",
       "4                     13056               campinas             SP  "
      ]
     },
     "execution_count": 4,
     "metadata": {},
     "output_type": "execute_result"
    }
   ],
   "source": [
    "customer.head()"
   ]
  },
  {
   "cell_type": "code",
   "execution_count": 5,
   "id": "2ced57fa",
   "metadata": {
    "vscode": {
     "languageId": "python"
    }
   },
   "outputs": [
    {
     "data": {
      "text/plain": [
       "(99441, 5)"
      ]
     },
     "execution_count": 5,
     "metadata": {},
     "output_type": "execute_result"
    }
   ],
   "source": [
    "customer.shape"
   ]
  },
  {
   "cell_type": "code",
   "execution_count": 6,
   "id": "a5957059",
   "metadata": {
    "vscode": {
     "languageId": "python"
    }
   },
   "outputs": [
    {
     "name": "stdout",
     "output_type": "stream",
     "text": [
      "<class 'pandas.core.frame.DataFrame'>\n",
      "RangeIndex: 99441 entries, 0 to 99440\n",
      "Data columns (total 5 columns):\n",
      " #   Column                    Non-Null Count  Dtype \n",
      "---  ------                    --------------  ----- \n",
      " 0   customer_id               99441 non-null  object\n",
      " 1   customer_unique_id        99441 non-null  object\n",
      " 2   customer_zip_code_prefix  99441 non-null  int64 \n",
      " 3   customer_city             99441 non-null  object\n",
      " 4   customer_state            99441 non-null  object\n",
      "dtypes: int64(1), object(4)\n",
      "memory usage: 3.8+ MB\n"
     ]
    }
   ],
   "source": [
    "customer.info()"
   ]
  },
  {
   "cell_type": "code",
   "execution_count": 7,
   "id": "686dc7fd",
   "metadata": {
    "vscode": {
     "languageId": "python"
    }
   },
   "outputs": [
    {
     "name": "stdout",
     "output_type": "stream",
     "text": [
      "There is 96096 located in 4119 cities and 27 states\n"
     ]
    }
   ],
   "source": [
    "print(\"There is {} located in {} cities and {} states\".format(customer.customer_unique_id.nunique(),\n",
    "                                                             customer.customer_city.nunique(), \n",
    "                                                              customer.customer_state.nunique()))"
   ]
  },
  {
   "cell_type": "code",
   "execution_count": 8,
   "id": "874f1ae3",
   "metadata": {
    "vscode": {
     "languageId": "python"
    }
   },
   "outputs": [
    {
     "data": {
      "text/plain": [
       "customer_id                 0.0\n",
       "customer_unique_id          0.0\n",
       "customer_zip_code_prefix    0.0\n",
       "customer_city               0.0\n",
       "customer_state              0.0\n",
       "dtype: float64"
      ]
     },
     "execution_count": 8,
     "metadata": {},
     "output_type": "execute_result"
    }
   ],
   "source": [
    "customer.isna().mean()"
   ]
  },
  {
   "cell_type": "code",
   "execution_count": 9,
   "id": "4ad3a79b",
   "metadata": {
    "vscode": {
     "languageId": "python"
    }
   },
   "outputs": [
    {
     "data": {
      "text/html": [
       "<div>\n",
       "<style scoped>\n",
       "    .dataframe tbody tr th:only-of-type {\n",
       "        vertical-align: middle;\n",
       "    }\n",
       "\n",
       "    .dataframe tbody tr th {\n",
       "        vertical-align: top;\n",
       "    }\n",
       "\n",
       "    .dataframe thead th {\n",
       "        text-align: right;\n",
       "    }\n",
       "</style>\n",
       "<table border=\"1\" class=\"dataframe\">\n",
       "  <thead>\n",
       "    <tr style=\"text-align: right;\">\n",
       "      <th></th>\n",
       "      <th>geolocation_zip_code_prefix</th>\n",
       "      <th>geolocation_lat</th>\n",
       "      <th>geolocation_lng</th>\n",
       "      <th>geolocation_city</th>\n",
       "      <th>geolocation_state</th>\n",
       "    </tr>\n",
       "  </thead>\n",
       "  <tbody>\n",
       "    <tr>\n",
       "      <th>0</th>\n",
       "      <td>1037</td>\n",
       "      <td>-23.545621</td>\n",
       "      <td>-46.639292</td>\n",
       "      <td>sao paulo</td>\n",
       "      <td>SP</td>\n",
       "    </tr>\n",
       "    <tr>\n",
       "      <th>1</th>\n",
       "      <td>1046</td>\n",
       "      <td>-23.546081</td>\n",
       "      <td>-46.644820</td>\n",
       "      <td>sao paulo</td>\n",
       "      <td>SP</td>\n",
       "    </tr>\n",
       "    <tr>\n",
       "      <th>2</th>\n",
       "      <td>1046</td>\n",
       "      <td>-23.546129</td>\n",
       "      <td>-46.642951</td>\n",
       "      <td>sao paulo</td>\n",
       "      <td>SP</td>\n",
       "    </tr>\n",
       "    <tr>\n",
       "      <th>3</th>\n",
       "      <td>1041</td>\n",
       "      <td>-23.544392</td>\n",
       "      <td>-46.639499</td>\n",
       "      <td>sao paulo</td>\n",
       "      <td>SP</td>\n",
       "    </tr>\n",
       "    <tr>\n",
       "      <th>4</th>\n",
       "      <td>1035</td>\n",
       "      <td>-23.541578</td>\n",
       "      <td>-46.641607</td>\n",
       "      <td>sao paulo</td>\n",
       "      <td>SP</td>\n",
       "    </tr>\n",
       "  </tbody>\n",
       "</table>\n",
       "</div>"
      ],
      "text/plain": [
       "   geolocation_zip_code_prefix  geolocation_lat  geolocation_lng   \n",
       "0                         1037       -23.545621       -46.639292  \\\n",
       "1                         1046       -23.546081       -46.644820   \n",
       "2                         1046       -23.546129       -46.642951   \n",
       "3                         1041       -23.544392       -46.639499   \n",
       "4                         1035       -23.541578       -46.641607   \n",
       "\n",
       "  geolocation_city geolocation_state  \n",
       "0        sao paulo                SP  \n",
       "1        sao paulo                SP  \n",
       "2        sao paulo                SP  \n",
       "3        sao paulo                SP  \n",
       "4        sao paulo                SP  "
      ]
     },
     "execution_count": 9,
     "metadata": {},
     "output_type": "execute_result"
    }
   ],
   "source": [
    "geolocation.head()"
   ]
  },
  {
   "cell_type": "code",
   "execution_count": 10,
   "id": "e753eb13",
   "metadata": {
    "vscode": {
     "languageId": "python"
    }
   },
   "outputs": [
    {
     "name": "stdout",
     "output_type": "stream",
     "text": [
      "<class 'pandas.core.frame.DataFrame'>\n",
      "RangeIndex: 1000163 entries, 0 to 1000162\n",
      "Data columns (total 5 columns):\n",
      " #   Column                       Non-Null Count    Dtype  \n",
      "---  ------                       --------------    -----  \n",
      " 0   geolocation_zip_code_prefix  1000163 non-null  int64  \n",
      " 1   geolocation_lat              1000163 non-null  float64\n",
      " 2   geolocation_lng              1000163 non-null  float64\n",
      " 3   geolocation_city             1000163 non-null  object \n",
      " 4   geolocation_state            1000163 non-null  object \n",
      "dtypes: float64(2), int64(1), object(2)\n",
      "memory usage: 38.2+ MB\n"
     ]
    }
   ],
   "source": [
    "geolocation.info()"
   ]
  },
  {
   "cell_type": "code",
   "execution_count": 11,
   "id": "067ad103",
   "metadata": {
    "vscode": {
     "languageId": "python"
    }
   },
   "outputs": [
    {
     "data": {
      "text/plain": [
       "geolocation_zip_code_prefix     19015\n",
       "geolocation_lat                717360\n",
       "geolocation_lng                717613\n",
       "geolocation_city                 8011\n",
       "geolocation_state                  27\n",
       "dtype: int64"
      ]
     },
     "execution_count": 11,
     "metadata": {},
     "output_type": "execute_result"
    }
   ],
   "source": [
    "geolocation.nunique()"
   ]
  },
  {
   "cell_type": "code",
   "execution_count": 12,
   "id": "eb9de053",
   "metadata": {
    "vscode": {
     "languageId": "python"
    }
   },
   "outputs": [
    {
     "data": {
      "text/html": [
       "<div>\n",
       "<style scoped>\n",
       "    .dataframe tbody tr th:only-of-type {\n",
       "        vertical-align: middle;\n",
       "    }\n",
       "\n",
       "    .dataframe tbody tr th {\n",
       "        vertical-align: top;\n",
       "    }\n",
       "\n",
       "    .dataframe thead th {\n",
       "        text-align: right;\n",
       "    }\n",
       "</style>\n",
       "<table border=\"1\" class=\"dataframe\">\n",
       "  <thead>\n",
       "    <tr style=\"text-align: right;\">\n",
       "      <th></th>\n",
       "      <th>order_id</th>\n",
       "      <th>order_item_id</th>\n",
       "      <th>product_id</th>\n",
       "      <th>seller_id</th>\n",
       "      <th>shipping_limit_date</th>\n",
       "      <th>price</th>\n",
       "      <th>freight_value</th>\n",
       "    </tr>\n",
       "  </thead>\n",
       "  <tbody>\n",
       "    <tr>\n",
       "      <th>0</th>\n",
       "      <td>00010242fe8c5a6d1ba2dd792cb16214</td>\n",
       "      <td>1</td>\n",
       "      <td>4244733e06e7ecb4970a6e2683c13e61</td>\n",
       "      <td>48436dade18ac8b2bce089ec2a041202</td>\n",
       "      <td>2017-09-19 09:45:35</td>\n",
       "      <td>58.90</td>\n",
       "      <td>13.29</td>\n",
       "    </tr>\n",
       "    <tr>\n",
       "      <th>1</th>\n",
       "      <td>00018f77f2f0320c557190d7a144bdd3</td>\n",
       "      <td>1</td>\n",
       "      <td>e5f2d52b802189ee658865ca93d83a8f</td>\n",
       "      <td>dd7ddc04e1b6c2c614352b383efe2d36</td>\n",
       "      <td>2017-05-03 11:05:13</td>\n",
       "      <td>239.90</td>\n",
       "      <td>19.93</td>\n",
       "    </tr>\n",
       "    <tr>\n",
       "      <th>2</th>\n",
       "      <td>000229ec398224ef6ca0657da4fc703e</td>\n",
       "      <td>1</td>\n",
       "      <td>c777355d18b72b67abbeef9df44fd0fd</td>\n",
       "      <td>5b51032eddd242adc84c38acab88f23d</td>\n",
       "      <td>2018-01-18 14:48:30</td>\n",
       "      <td>199.00</td>\n",
       "      <td>17.87</td>\n",
       "    </tr>\n",
       "    <tr>\n",
       "      <th>3</th>\n",
       "      <td>00024acbcdf0a6daa1e931b038114c75</td>\n",
       "      <td>1</td>\n",
       "      <td>7634da152a4610f1595efa32f14722fc</td>\n",
       "      <td>9d7a1d34a5052409006425275ba1c2b4</td>\n",
       "      <td>2018-08-15 10:10:18</td>\n",
       "      <td>12.99</td>\n",
       "      <td>12.79</td>\n",
       "    </tr>\n",
       "    <tr>\n",
       "      <th>4</th>\n",
       "      <td>00042b26cf59d7ce69dfabb4e55b4fd9</td>\n",
       "      <td>1</td>\n",
       "      <td>ac6c3623068f30de03045865e4e10089</td>\n",
       "      <td>df560393f3a51e74553ab94004ba5c87</td>\n",
       "      <td>2017-02-13 13:57:51</td>\n",
       "      <td>199.90</td>\n",
       "      <td>18.14</td>\n",
       "    </tr>\n",
       "  </tbody>\n",
       "</table>\n",
       "</div>"
      ],
      "text/plain": [
       "                           order_id  order_item_id   \n",
       "0  00010242fe8c5a6d1ba2dd792cb16214              1  \\\n",
       "1  00018f77f2f0320c557190d7a144bdd3              1   \n",
       "2  000229ec398224ef6ca0657da4fc703e              1   \n",
       "3  00024acbcdf0a6daa1e931b038114c75              1   \n",
       "4  00042b26cf59d7ce69dfabb4e55b4fd9              1   \n",
       "\n",
       "                         product_id                         seller_id   \n",
       "0  4244733e06e7ecb4970a6e2683c13e61  48436dade18ac8b2bce089ec2a041202  \\\n",
       "1  e5f2d52b802189ee658865ca93d83a8f  dd7ddc04e1b6c2c614352b383efe2d36   \n",
       "2  c777355d18b72b67abbeef9df44fd0fd  5b51032eddd242adc84c38acab88f23d   \n",
       "3  7634da152a4610f1595efa32f14722fc  9d7a1d34a5052409006425275ba1c2b4   \n",
       "4  ac6c3623068f30de03045865e4e10089  df560393f3a51e74553ab94004ba5c87   \n",
       "\n",
       "   shipping_limit_date   price  freight_value  \n",
       "0  2017-09-19 09:45:35   58.90          13.29  \n",
       "1  2017-05-03 11:05:13  239.90          19.93  \n",
       "2  2018-01-18 14:48:30  199.00          17.87  \n",
       "3  2018-08-15 10:10:18   12.99          12.79  \n",
       "4  2017-02-13 13:57:51  199.90          18.14  "
      ]
     },
     "execution_count": 12,
     "metadata": {},
     "output_type": "execute_result"
    }
   ],
   "source": [
    "order_items.head()"
   ]
  },
  {
   "cell_type": "code",
   "execution_count": 13,
   "id": "8f8bbea3",
   "metadata": {
    "vscode": {
     "languageId": "python"
    }
   },
   "outputs": [
    {
     "name": "stdout",
     "output_type": "stream",
     "text": [
      "<class 'pandas.core.frame.DataFrame'>\n",
      "RangeIndex: 112650 entries, 0 to 112649\n",
      "Data columns (total 7 columns):\n",
      " #   Column               Non-Null Count   Dtype  \n",
      "---  ------               --------------   -----  \n",
      " 0   order_id             112650 non-null  object \n",
      " 1   order_item_id        112650 non-null  int64  \n",
      " 2   product_id           112650 non-null  object \n",
      " 3   seller_id            112650 non-null  object \n",
      " 4   shipping_limit_date  112650 non-null  object \n",
      " 5   price                112650 non-null  float64\n",
      " 6   freight_value        112650 non-null  float64\n",
      "dtypes: float64(2), int64(1), object(4)\n",
      "memory usage: 6.0+ MB\n"
     ]
    }
   ],
   "source": [
    "order_items.info()"
   ]
  },
  {
   "cell_type": "code",
   "execution_count": 14,
   "id": "6afabd6f",
   "metadata": {
    "vscode": {
     "languageId": "python"
    }
   },
   "outputs": [
    {
     "name": "stdout",
     "output_type": "stream",
     "text": [
      "There is 98666 unique order to 3095 sellers on 32951 products\n"
     ]
    }
   ],
   "source": [
    "print(\"There is {} unique order to {} sellers on {} products\".format(order_items.order_id.nunique(),\n",
    "                                                                     order_items.seller_id.nunique(),\n",
    "                                                                    order_items.product_id.nunique()))"
   ]
  },
  {
   "cell_type": "code",
   "execution_count": 15,
   "id": "78364903",
   "metadata": {
    "vscode": {
     "languageId": "python"
    }
   },
   "outputs": [],
   "source": [
    "order_items.shipping_limit_date = pd.to_datetime(order_items.shipping_limit_date)"
   ]
  },
  {
   "cell_type": "code",
   "execution_count": 16,
   "id": "d723821b",
   "metadata": {
    "vscode": {
     "languageId": "python"
    }
   },
   "outputs": [
    {
     "name": "stdout",
     "output_type": "stream",
     "text": [
      "The shipping limit data was between 2016-09-19 00:15:34 and 2020-04-09 22:35:08\n"
     ]
    }
   ],
   "source": [
    "print(\"The shipping limit data was between {} and {}\".format(order_items.shipping_limit_date.min(),\n",
    "                                                             order_items.shipping_limit_date.max()))"
   ]
  },
  {
   "cell_type": "code",
   "execution_count": 17,
   "id": "45fc2edb",
   "metadata": {
    "vscode": {
     "languageId": "python"
    }
   },
   "outputs": [
    {
     "data": {
      "text/html": [
       "<div>\n",
       "<style scoped>\n",
       "    .dataframe tbody tr th:only-of-type {\n",
       "        vertical-align: middle;\n",
       "    }\n",
       "\n",
       "    .dataframe tbody tr th {\n",
       "        vertical-align: top;\n",
       "    }\n",
       "\n",
       "    .dataframe thead th {\n",
       "        text-align: right;\n",
       "    }\n",
       "</style>\n",
       "<table border=\"1\" class=\"dataframe\">\n",
       "  <thead>\n",
       "    <tr style=\"text-align: right;\">\n",
       "      <th></th>\n",
       "      <th>order_item_id</th>\n",
       "      <th>shipping_limit_date</th>\n",
       "      <th>price</th>\n",
       "      <th>freight_value</th>\n",
       "    </tr>\n",
       "  </thead>\n",
       "  <tbody>\n",
       "    <tr>\n",
       "      <th>count</th>\n",
       "      <td>112650.000000</td>\n",
       "      <td>112650</td>\n",
       "      <td>112650.000000</td>\n",
       "      <td>112650.000000</td>\n",
       "    </tr>\n",
       "    <tr>\n",
       "      <th>mean</th>\n",
       "      <td>1.197834</td>\n",
       "      <td>2018-01-07 15:36:52.192685312</td>\n",
       "      <td>120.653739</td>\n",
       "      <td>19.990320</td>\n",
       "    </tr>\n",
       "    <tr>\n",
       "      <th>min</th>\n",
       "      <td>1.000000</td>\n",
       "      <td>2016-09-19 00:15:34</td>\n",
       "      <td>0.850000</td>\n",
       "      <td>0.000000</td>\n",
       "    </tr>\n",
       "    <tr>\n",
       "      <th>25%</th>\n",
       "      <td>1.000000</td>\n",
       "      <td>2017-09-20 20:57:27.500000</td>\n",
       "      <td>39.900000</td>\n",
       "      <td>13.080000</td>\n",
       "    </tr>\n",
       "    <tr>\n",
       "      <th>50%</th>\n",
       "      <td>1.000000</td>\n",
       "      <td>2018-01-26 13:59:35</td>\n",
       "      <td>74.990000</td>\n",
       "      <td>16.260000</td>\n",
       "    </tr>\n",
       "    <tr>\n",
       "      <th>75%</th>\n",
       "      <td>1.000000</td>\n",
       "      <td>2018-05-10 14:34:00.750000128</td>\n",
       "      <td>134.900000</td>\n",
       "      <td>21.150000</td>\n",
       "    </tr>\n",
       "    <tr>\n",
       "      <th>max</th>\n",
       "      <td>21.000000</td>\n",
       "      <td>2020-04-09 22:35:08</td>\n",
       "      <td>6735.000000</td>\n",
       "      <td>409.680000</td>\n",
       "    </tr>\n",
       "    <tr>\n",
       "      <th>std</th>\n",
       "      <td>0.705124</td>\n",
       "      <td>NaN</td>\n",
       "      <td>183.633928</td>\n",
       "      <td>15.806405</td>\n",
       "    </tr>\n",
       "  </tbody>\n",
       "</table>\n",
       "</div>"
      ],
      "text/plain": [
       "       order_item_id            shipping_limit_date          price   \n",
       "count  112650.000000                         112650  112650.000000  \\\n",
       "mean        1.197834  2018-01-07 15:36:52.192685312     120.653739   \n",
       "min         1.000000            2016-09-19 00:15:34       0.850000   \n",
       "25%         1.000000     2017-09-20 20:57:27.500000      39.900000   \n",
       "50%         1.000000            2018-01-26 13:59:35      74.990000   \n",
       "75%         1.000000  2018-05-10 14:34:00.750000128     134.900000   \n",
       "max        21.000000            2020-04-09 22:35:08    6735.000000   \n",
       "std         0.705124                            NaN     183.633928   \n",
       "\n",
       "       freight_value  \n",
       "count  112650.000000  \n",
       "mean       19.990320  \n",
       "min         0.000000  \n",
       "25%        13.080000  \n",
       "50%        16.260000  \n",
       "75%        21.150000  \n",
       "max       409.680000  \n",
       "std        15.806405  "
      ]
     },
     "execution_count": 17,
     "metadata": {},
     "output_type": "execute_result"
    }
   ],
   "source": [
    "order_items.describe()"
   ]
  },
  {
   "cell_type": "code",
   "execution_count": 18,
   "id": "e0628138",
   "metadata": {
    "vscode": {
     "languageId": "python"
    }
   },
   "outputs": [
    {
     "data": {
      "text/html": [
       "<div>\n",
       "<style scoped>\n",
       "    .dataframe tbody tr th:only-of-type {\n",
       "        vertical-align: middle;\n",
       "    }\n",
       "\n",
       "    .dataframe tbody tr th {\n",
       "        vertical-align: top;\n",
       "    }\n",
       "\n",
       "    .dataframe thead th {\n",
       "        text-align: right;\n",
       "    }\n",
       "</style>\n",
       "<table border=\"1\" class=\"dataframe\">\n",
       "  <thead>\n",
       "    <tr style=\"text-align: right;\">\n",
       "      <th></th>\n",
       "      <th>order_id</th>\n",
       "      <th>payment_sequential</th>\n",
       "      <th>payment_type</th>\n",
       "      <th>payment_installments</th>\n",
       "      <th>payment_value</th>\n",
       "    </tr>\n",
       "  </thead>\n",
       "  <tbody>\n",
       "    <tr>\n",
       "      <th>0</th>\n",
       "      <td>b81ef226f3fe1789b1e8b2acac839d17</td>\n",
       "      <td>1</td>\n",
       "      <td>credit_card</td>\n",
       "      <td>8</td>\n",
       "      <td>99.33</td>\n",
       "    </tr>\n",
       "    <tr>\n",
       "      <th>1</th>\n",
       "      <td>a9810da82917af2d9aefd1278f1dcfa0</td>\n",
       "      <td>1</td>\n",
       "      <td>credit_card</td>\n",
       "      <td>1</td>\n",
       "      <td>24.39</td>\n",
       "    </tr>\n",
       "    <tr>\n",
       "      <th>2</th>\n",
       "      <td>25e8ea4e93396b6fa0d3dd708e76c1bd</td>\n",
       "      <td>1</td>\n",
       "      <td>credit_card</td>\n",
       "      <td>1</td>\n",
       "      <td>65.71</td>\n",
       "    </tr>\n",
       "    <tr>\n",
       "      <th>3</th>\n",
       "      <td>ba78997921bbcdc1373bb41e913ab953</td>\n",
       "      <td>1</td>\n",
       "      <td>credit_card</td>\n",
       "      <td>8</td>\n",
       "      <td>107.78</td>\n",
       "    </tr>\n",
       "    <tr>\n",
       "      <th>4</th>\n",
       "      <td>42fdf880ba16b47b59251dd489d4441a</td>\n",
       "      <td>1</td>\n",
       "      <td>credit_card</td>\n",
       "      <td>2</td>\n",
       "      <td>128.45</td>\n",
       "    </tr>\n",
       "  </tbody>\n",
       "</table>\n",
       "</div>"
      ],
      "text/plain": [
       "                           order_id  payment_sequential payment_type   \n",
       "0  b81ef226f3fe1789b1e8b2acac839d17                   1  credit_card  \\\n",
       "1  a9810da82917af2d9aefd1278f1dcfa0                   1  credit_card   \n",
       "2  25e8ea4e93396b6fa0d3dd708e76c1bd                   1  credit_card   \n",
       "3  ba78997921bbcdc1373bb41e913ab953                   1  credit_card   \n",
       "4  42fdf880ba16b47b59251dd489d4441a                   1  credit_card   \n",
       "\n",
       "   payment_installments  payment_value  \n",
       "0                     8          99.33  \n",
       "1                     1          24.39  \n",
       "2                     1          65.71  \n",
       "3                     8         107.78  \n",
       "4                     2         128.45  "
      ]
     },
     "execution_count": 18,
     "metadata": {},
     "output_type": "execute_result"
    }
   ],
   "source": [
    "order_payment.head()"
   ]
  },
  {
   "cell_type": "code",
   "execution_count": 19,
   "id": "7f164f6a",
   "metadata": {
    "vscode": {
     "languageId": "python"
    }
   },
   "outputs": [
    {
     "name": "stdout",
     "output_type": "stream",
     "text": [
      "<class 'pandas.core.frame.DataFrame'>\n",
      "RangeIndex: 103886 entries, 0 to 103885\n",
      "Data columns (total 5 columns):\n",
      " #   Column                Non-Null Count   Dtype  \n",
      "---  ------                --------------   -----  \n",
      " 0   order_id              103886 non-null  object \n",
      " 1   payment_sequential    103886 non-null  int64  \n",
      " 2   payment_type          103886 non-null  object \n",
      " 3   payment_installments  103886 non-null  int64  \n",
      " 4   payment_value         103886 non-null  float64\n",
      "dtypes: float64(1), int64(2), object(2)\n",
      "memory usage: 4.0+ MB\n"
     ]
    }
   ],
   "source": [
    "order_payment.info()"
   ]
  },
  {
   "cell_type": "code",
   "execution_count": 20,
   "id": "750ced97",
   "metadata": {
    "vscode": {
     "languageId": "python"
    }
   },
   "outputs": [
    {
     "data": {
      "text/plain": [
       "order_id                99440\n",
       "payment_sequential         29\n",
       "payment_type                5\n",
       "payment_installments       24\n",
       "payment_value           29077\n",
       "dtype: int64"
      ]
     },
     "execution_count": 20,
     "metadata": {},
     "output_type": "execute_result"
    }
   ],
   "source": [
    "order_payment.nunique()"
   ]
  },
  {
   "cell_type": "code",
   "execution_count": 21,
   "id": "edba3047",
   "metadata": {
    "vscode": {
     "languageId": "python"
    }
   },
   "outputs": [
    {
     "data": {
      "text/html": [
       "<div>\n",
       "<style scoped>\n",
       "    .dataframe tbody tr th:only-of-type {\n",
       "        vertical-align: middle;\n",
       "    }\n",
       "\n",
       "    .dataframe tbody tr th {\n",
       "        vertical-align: top;\n",
       "    }\n",
       "\n",
       "    .dataframe thead th {\n",
       "        text-align: right;\n",
       "    }\n",
       "</style>\n",
       "<table border=\"1\" class=\"dataframe\">\n",
       "  <thead>\n",
       "    <tr style=\"text-align: right;\">\n",
       "      <th></th>\n",
       "      <th>payment_sequential</th>\n",
       "      <th>payment_installments</th>\n",
       "      <th>payment_value</th>\n",
       "    </tr>\n",
       "  </thead>\n",
       "  <tbody>\n",
       "    <tr>\n",
       "      <th>count</th>\n",
       "      <td>103886.000000</td>\n",
       "      <td>103886.000000</td>\n",
       "      <td>103886.000000</td>\n",
       "    </tr>\n",
       "    <tr>\n",
       "      <th>mean</th>\n",
       "      <td>1.092679</td>\n",
       "      <td>2.853349</td>\n",
       "      <td>154.100380</td>\n",
       "    </tr>\n",
       "    <tr>\n",
       "      <th>std</th>\n",
       "      <td>0.706584</td>\n",
       "      <td>2.687051</td>\n",
       "      <td>217.494064</td>\n",
       "    </tr>\n",
       "    <tr>\n",
       "      <th>min</th>\n",
       "      <td>1.000000</td>\n",
       "      <td>0.000000</td>\n",
       "      <td>0.000000</td>\n",
       "    </tr>\n",
       "    <tr>\n",
       "      <th>25%</th>\n",
       "      <td>1.000000</td>\n",
       "      <td>1.000000</td>\n",
       "      <td>56.790000</td>\n",
       "    </tr>\n",
       "    <tr>\n",
       "      <th>50%</th>\n",
       "      <td>1.000000</td>\n",
       "      <td>1.000000</td>\n",
       "      <td>100.000000</td>\n",
       "    </tr>\n",
       "    <tr>\n",
       "      <th>75%</th>\n",
       "      <td>1.000000</td>\n",
       "      <td>4.000000</td>\n",
       "      <td>171.837500</td>\n",
       "    </tr>\n",
       "    <tr>\n",
       "      <th>max</th>\n",
       "      <td>29.000000</td>\n",
       "      <td>24.000000</td>\n",
       "      <td>13664.080000</td>\n",
       "    </tr>\n",
       "  </tbody>\n",
       "</table>\n",
       "</div>"
      ],
      "text/plain": [
       "       payment_sequential  payment_installments  payment_value\n",
       "count       103886.000000         103886.000000  103886.000000\n",
       "mean             1.092679              2.853349     154.100380\n",
       "std              0.706584              2.687051     217.494064\n",
       "min              1.000000              0.000000       0.000000\n",
       "25%              1.000000              1.000000      56.790000\n",
       "50%              1.000000              1.000000     100.000000\n",
       "75%              1.000000              4.000000     171.837500\n",
       "max             29.000000             24.000000   13664.080000"
      ]
     },
     "execution_count": 21,
     "metadata": {},
     "output_type": "execute_result"
    }
   ],
   "source": [
    "order_payment.describe()"
   ]
  },
  {
   "cell_type": "code",
   "execution_count": 22,
   "id": "928d8fb9",
   "metadata": {
    "vscode": {
     "languageId": "python"
    }
   },
   "outputs": [
    {
     "data": {
      "text/html": [
       "<div>\n",
       "<style scoped>\n",
       "    .dataframe tbody tr th:only-of-type {\n",
       "        vertical-align: middle;\n",
       "    }\n",
       "\n",
       "    .dataframe tbody tr th {\n",
       "        vertical-align: top;\n",
       "    }\n",
       "\n",
       "    .dataframe thead th {\n",
       "        text-align: right;\n",
       "    }\n",
       "</style>\n",
       "<table border=\"1\" class=\"dataframe\">\n",
       "  <thead>\n",
       "    <tr style=\"text-align: right;\">\n",
       "      <th></th>\n",
       "      <th>review_id</th>\n",
       "      <th>order_id</th>\n",
       "      <th>review_score</th>\n",
       "      <th>review_comment_title</th>\n",
       "      <th>review_comment_message</th>\n",
       "      <th>review_creation_date</th>\n",
       "      <th>review_answer_timestamp</th>\n",
       "    </tr>\n",
       "  </thead>\n",
       "  <tbody>\n",
       "    <tr>\n",
       "      <th>0</th>\n",
       "      <td>7bc2406110b926393aa56f80a40eba40</td>\n",
       "      <td>73fc7af87114b39712e6da79b0a377eb</td>\n",
       "      <td>4</td>\n",
       "      <td>NaN</td>\n",
       "      <td>NaN</td>\n",
       "      <td>2018-01-18 00:00:00</td>\n",
       "      <td>2018-01-18 21:46:59</td>\n",
       "    </tr>\n",
       "    <tr>\n",
       "      <th>1</th>\n",
       "      <td>80e641a11e56f04c1ad469d5645fdfde</td>\n",
       "      <td>a548910a1c6147796b98fdf73dbeba33</td>\n",
       "      <td>5</td>\n",
       "      <td>NaN</td>\n",
       "      <td>NaN</td>\n",
       "      <td>2018-03-10 00:00:00</td>\n",
       "      <td>2018-03-11 03:05:13</td>\n",
       "    </tr>\n",
       "    <tr>\n",
       "      <th>2</th>\n",
       "      <td>228ce5500dc1d8e020d8d1322874b6f0</td>\n",
       "      <td>f9e4b658b201a9f2ecdecbb34bed034b</td>\n",
       "      <td>5</td>\n",
       "      <td>NaN</td>\n",
       "      <td>NaN</td>\n",
       "      <td>2018-02-17 00:00:00</td>\n",
       "      <td>2018-02-18 14:36:24</td>\n",
       "    </tr>\n",
       "    <tr>\n",
       "      <th>3</th>\n",
       "      <td>e64fb393e7b32834bb789ff8bb30750e</td>\n",
       "      <td>658677c97b385a9be170737859d3511b</td>\n",
       "      <td>5</td>\n",
       "      <td>NaN</td>\n",
       "      <td>Recebi bem antes do prazo estipulado.</td>\n",
       "      <td>2017-04-21 00:00:00</td>\n",
       "      <td>2017-04-21 22:02:06</td>\n",
       "    </tr>\n",
       "    <tr>\n",
       "      <th>4</th>\n",
       "      <td>f7c4243c7fe1938f181bec41a392bdeb</td>\n",
       "      <td>8e6bfb81e283fa7e4f11123a3fb894f1</td>\n",
       "      <td>5</td>\n",
       "      <td>NaN</td>\n",
       "      <td>Parabéns lojas lannister adorei comprar pela I...</td>\n",
       "      <td>2018-03-01 00:00:00</td>\n",
       "      <td>2018-03-02 10:26:53</td>\n",
       "    </tr>\n",
       "  </tbody>\n",
       "</table>\n",
       "</div>"
      ],
      "text/plain": [
       "                          review_id                          order_id   \n",
       "0  7bc2406110b926393aa56f80a40eba40  73fc7af87114b39712e6da79b0a377eb  \\\n",
       "1  80e641a11e56f04c1ad469d5645fdfde  a548910a1c6147796b98fdf73dbeba33   \n",
       "2  228ce5500dc1d8e020d8d1322874b6f0  f9e4b658b201a9f2ecdecbb34bed034b   \n",
       "3  e64fb393e7b32834bb789ff8bb30750e  658677c97b385a9be170737859d3511b   \n",
       "4  f7c4243c7fe1938f181bec41a392bdeb  8e6bfb81e283fa7e4f11123a3fb894f1   \n",
       "\n",
       "   review_score review_comment_title   \n",
       "0             4                  NaN  \\\n",
       "1             5                  NaN   \n",
       "2             5                  NaN   \n",
       "3             5                  NaN   \n",
       "4             5                  NaN   \n",
       "\n",
       "                              review_comment_message review_creation_date   \n",
       "0                                                NaN  2018-01-18 00:00:00  \\\n",
       "1                                                NaN  2018-03-10 00:00:00   \n",
       "2                                                NaN  2018-02-17 00:00:00   \n",
       "3              Recebi bem antes do prazo estipulado.  2017-04-21 00:00:00   \n",
       "4  Parabéns lojas lannister adorei comprar pela I...  2018-03-01 00:00:00   \n",
       "\n",
       "  review_answer_timestamp  \n",
       "0     2018-01-18 21:46:59  \n",
       "1     2018-03-11 03:05:13  \n",
       "2     2018-02-18 14:36:24  \n",
       "3     2017-04-21 22:02:06  \n",
       "4     2018-03-02 10:26:53  "
      ]
     },
     "execution_count": 22,
     "metadata": {},
     "output_type": "execute_result"
    }
   ],
   "source": [
    "order_reviews.head()"
   ]
  },
  {
   "cell_type": "code",
   "execution_count": 23,
   "id": "aaccce32",
   "metadata": {
    "vscode": {
     "languageId": "python"
    }
   },
   "outputs": [
    {
     "name": "stdout",
     "output_type": "stream",
     "text": [
      "<class 'pandas.core.frame.DataFrame'>\n",
      "RangeIndex: 99224 entries, 0 to 99223\n",
      "Data columns (total 7 columns):\n",
      " #   Column                   Non-Null Count  Dtype \n",
      "---  ------                   --------------  ----- \n",
      " 0   review_id                99224 non-null  object\n",
      " 1   order_id                 99224 non-null  object\n",
      " 2   review_score             99224 non-null  int64 \n",
      " 3   review_comment_title     11568 non-null  object\n",
      " 4   review_comment_message   40977 non-null  object\n",
      " 5   review_creation_date     99224 non-null  object\n",
      " 6   review_answer_timestamp  99224 non-null  object\n",
      "dtypes: int64(1), object(6)\n",
      "memory usage: 5.3+ MB\n"
     ]
    }
   ],
   "source": [
    "order_reviews.info()"
   ]
  },
  {
   "cell_type": "code",
   "execution_count": 24,
   "id": "e6b216e8",
   "metadata": {
    "vscode": {
     "languageId": "python"
    }
   },
   "outputs": [
    {
     "data": {
      "text/plain": [
       "review_id                  98410\n",
       "order_id                   98673\n",
       "review_score                   5\n",
       "review_comment_title        4527\n",
       "review_comment_message     36159\n",
       "review_creation_date         636\n",
       "review_answer_timestamp    98248\n",
       "dtype: int64"
      ]
     },
     "execution_count": 24,
     "metadata": {},
     "output_type": "execute_result"
    }
   ],
   "source": [
    "order_reviews.nunique()"
   ]
  },
  {
   "cell_type": "code",
   "execution_count": 25,
   "id": "2f009b0e",
   "metadata": {
    "scrolled": true,
    "vscode": {
     "languageId": "python"
    }
   },
   "outputs": [
    {
     "data": {
      "text/plain": [
       "review_id                  0.000000\n",
       "order_id                   0.000000\n",
       "review_score               0.000000\n",
       "review_comment_title       0.883415\n",
       "review_comment_message     0.587025\n",
       "review_creation_date       0.000000\n",
       "review_answer_timestamp    0.000000\n",
       "dtype: float64"
      ]
     },
     "execution_count": 25,
     "metadata": {},
     "output_type": "execute_result"
    }
   ],
   "source": [
    "order_reviews.isna().mean()"
   ]
  },
  {
   "cell_type": "markdown",
   "id": "229aba9b-e8fc-406e-af73-1abcc096d8e7",
   "metadata": {},
   "source": [
    "We fill the <code>review_comment_title<\\code> <code>nans<\\code> values with <code>No Comment<\\code> and <code>review_comment_message<\\code>  <code>nans<\\code> values with <code>No Message<\\code>"
   ]
  },
  {
   "cell_type": "code",
   "execution_count": 26,
   "id": "795fe73b",
   "metadata": {
    "vscode": {
     "languageId": "python"
    }
   },
   "outputs": [],
   "source": [
    "order_reviews.review_comment_title = order_reviews.review_comment_title.fillna(\"No Comment\")\n",
    "order_reviews.review_comment_message = order_reviews.review_comment_message.fillna(\"No Message\")"
   ]
  },
  {
   "cell_type": "code",
   "execution_count": 27,
   "id": "dfb79960",
   "metadata": {
    "vscode": {
     "languageId": "python"
    }
   },
   "outputs": [
    {
     "data": {
      "text/plain": [
       "review_id                  0.0\n",
       "order_id                   0.0\n",
       "review_score               0.0\n",
       "review_comment_title       0.0\n",
       "review_comment_message     0.0\n",
       "review_creation_date       0.0\n",
       "review_answer_timestamp    0.0\n",
       "dtype: float64"
      ]
     },
     "execution_count": 27,
     "metadata": {},
     "output_type": "execute_result"
    }
   ],
   "source": [
    "order_reviews.isna().mean()"
   ]
  },
  {
   "cell_type": "code",
   "execution_count": 28,
   "id": "759e3fcd",
   "metadata": {
    "scrolled": true,
    "vscode": {
     "languageId": "python"
    }
   },
   "outputs": [
    {
     "data": {
      "text/plain": [
       "review_id                  98410\n",
       "order_id                   98673\n",
       "review_score                   5\n",
       "review_comment_title        4528\n",
       "review_comment_message     36160\n",
       "review_creation_date         636\n",
       "review_answer_timestamp    98248\n",
       "dtype: int64"
      ]
     },
     "execution_count": 28,
     "metadata": {},
     "output_type": "execute_result"
    }
   ],
   "source": [
    "order_reviews.nunique()"
   ]
  },
  {
   "cell_type": "code",
   "execution_count": 29,
   "id": "44533a2b",
   "metadata": {
    "vscode": {
     "languageId": "python"
    }
   },
   "outputs": [
    {
     "name": "stdout",
     "output_type": "stream",
     "text": [
      "<class 'pandas.core.frame.DataFrame'>\n",
      "RangeIndex: 99224 entries, 0 to 99223\n",
      "Data columns (total 7 columns):\n",
      " #   Column                   Non-Null Count  Dtype \n",
      "---  ------                   --------------  ----- \n",
      " 0   review_id                99224 non-null  object\n",
      " 1   order_id                 99224 non-null  object\n",
      " 2   review_score             99224 non-null  int64 \n",
      " 3   review_comment_title     99224 non-null  object\n",
      " 4   review_comment_message   99224 non-null  object\n",
      " 5   review_creation_date     99224 non-null  object\n",
      " 6   review_answer_timestamp  99224 non-null  object\n",
      "dtypes: int64(1), object(6)\n",
      "memory usage: 5.3+ MB\n"
     ]
    }
   ],
   "source": [
    "order_reviews.info()"
   ]
  },
  {
   "cell_type": "code",
   "execution_count": 30,
   "id": "a63ae670",
   "metadata": {
    "scrolled": true,
    "vscode": {
     "languageId": "python"
    }
   },
   "outputs": [
    {
     "data": {
      "text/html": [
       "<div>\n",
       "<style scoped>\n",
       "    .dataframe tbody tr th:only-of-type {\n",
       "        vertical-align: middle;\n",
       "    }\n",
       "\n",
       "    .dataframe tbody tr th {\n",
       "        vertical-align: top;\n",
       "    }\n",
       "\n",
       "    .dataframe thead th {\n",
       "        text-align: right;\n",
       "    }\n",
       "</style>\n",
       "<table border=\"1\" class=\"dataframe\">\n",
       "  <thead>\n",
       "    <tr style=\"text-align: right;\">\n",
       "      <th></th>\n",
       "      <th>order_id</th>\n",
       "      <th>customer_id</th>\n",
       "      <th>order_status</th>\n",
       "      <th>order_purchase_timestamp</th>\n",
       "      <th>order_approved_at</th>\n",
       "      <th>order_delivered_carrier_date</th>\n",
       "      <th>order_delivered_customer_date</th>\n",
       "      <th>order_estimated_delivery_date</th>\n",
       "    </tr>\n",
       "  </thead>\n",
       "  <tbody>\n",
       "    <tr>\n",
       "      <th>0</th>\n",
       "      <td>e481f51cbdc54678b7cc49136f2d6af7</td>\n",
       "      <td>9ef432eb6251297304e76186b10a928d</td>\n",
       "      <td>delivered</td>\n",
       "      <td>2017-10-02 10:56:33</td>\n",
       "      <td>2017-10-02 11:07:15</td>\n",
       "      <td>2017-10-04 19:55:00</td>\n",
       "      <td>2017-10-10 21:25:13</td>\n",
       "      <td>2017-10-18 00:00:00</td>\n",
       "    </tr>\n",
       "    <tr>\n",
       "      <th>1</th>\n",
       "      <td>53cdb2fc8bc7dce0b6741e2150273451</td>\n",
       "      <td>b0830fb4747a6c6d20dea0b8c802d7ef</td>\n",
       "      <td>delivered</td>\n",
       "      <td>2018-07-24 20:41:37</td>\n",
       "      <td>2018-07-26 03:24:27</td>\n",
       "      <td>2018-07-26 14:31:00</td>\n",
       "      <td>2018-08-07 15:27:45</td>\n",
       "      <td>2018-08-13 00:00:00</td>\n",
       "    </tr>\n",
       "    <tr>\n",
       "      <th>2</th>\n",
       "      <td>47770eb9100c2d0c44946d9cf07ec65d</td>\n",
       "      <td>41ce2a54c0b03bf3443c3d931a367089</td>\n",
       "      <td>delivered</td>\n",
       "      <td>2018-08-08 08:38:49</td>\n",
       "      <td>2018-08-08 08:55:23</td>\n",
       "      <td>2018-08-08 13:50:00</td>\n",
       "      <td>2018-08-17 18:06:29</td>\n",
       "      <td>2018-09-04 00:00:00</td>\n",
       "    </tr>\n",
       "    <tr>\n",
       "      <th>3</th>\n",
       "      <td>949d5b44dbf5de918fe9c16f97b45f8a</td>\n",
       "      <td>f88197465ea7920adcdbec7375364d82</td>\n",
       "      <td>delivered</td>\n",
       "      <td>2017-11-18 19:28:06</td>\n",
       "      <td>2017-11-18 19:45:59</td>\n",
       "      <td>2017-11-22 13:39:59</td>\n",
       "      <td>2017-12-02 00:28:42</td>\n",
       "      <td>2017-12-15 00:00:00</td>\n",
       "    </tr>\n",
       "    <tr>\n",
       "      <th>4</th>\n",
       "      <td>ad21c59c0840e6cb83a9ceb5573f8159</td>\n",
       "      <td>8ab97904e6daea8866dbdbc4fb7aad2c</td>\n",
       "      <td>delivered</td>\n",
       "      <td>2018-02-13 21:18:39</td>\n",
       "      <td>2018-02-13 22:20:29</td>\n",
       "      <td>2018-02-14 19:46:34</td>\n",
       "      <td>2018-02-16 18:17:02</td>\n",
       "      <td>2018-02-26 00:00:00</td>\n",
       "    </tr>\n",
       "  </tbody>\n",
       "</table>\n",
       "</div>"
      ],
      "text/plain": [
       "                           order_id                       customer_id   \n",
       "0  e481f51cbdc54678b7cc49136f2d6af7  9ef432eb6251297304e76186b10a928d  \\\n",
       "1  53cdb2fc8bc7dce0b6741e2150273451  b0830fb4747a6c6d20dea0b8c802d7ef   \n",
       "2  47770eb9100c2d0c44946d9cf07ec65d  41ce2a54c0b03bf3443c3d931a367089   \n",
       "3  949d5b44dbf5de918fe9c16f97b45f8a  f88197465ea7920adcdbec7375364d82   \n",
       "4  ad21c59c0840e6cb83a9ceb5573f8159  8ab97904e6daea8866dbdbc4fb7aad2c   \n",
       "\n",
       "  order_status order_purchase_timestamp    order_approved_at   \n",
       "0    delivered      2017-10-02 10:56:33  2017-10-02 11:07:15  \\\n",
       "1    delivered      2018-07-24 20:41:37  2018-07-26 03:24:27   \n",
       "2    delivered      2018-08-08 08:38:49  2018-08-08 08:55:23   \n",
       "3    delivered      2017-11-18 19:28:06  2017-11-18 19:45:59   \n",
       "4    delivered      2018-02-13 21:18:39  2018-02-13 22:20:29   \n",
       "\n",
       "  order_delivered_carrier_date order_delivered_customer_date   \n",
       "0          2017-10-04 19:55:00           2017-10-10 21:25:13  \\\n",
       "1          2018-07-26 14:31:00           2018-08-07 15:27:45   \n",
       "2          2018-08-08 13:50:00           2018-08-17 18:06:29   \n",
       "3          2017-11-22 13:39:59           2017-12-02 00:28:42   \n",
       "4          2018-02-14 19:46:34           2018-02-16 18:17:02   \n",
       "\n",
       "  order_estimated_delivery_date  \n",
       "0           2017-10-18 00:00:00  \n",
       "1           2018-08-13 00:00:00  \n",
       "2           2018-09-04 00:00:00  \n",
       "3           2017-12-15 00:00:00  \n",
       "4           2018-02-26 00:00:00  "
      ]
     },
     "execution_count": 30,
     "metadata": {},
     "output_type": "execute_result"
    }
   ],
   "source": [
    "orders.head()"
   ]
  },
  {
   "cell_type": "code",
   "execution_count": 31,
   "id": "ec420dc9",
   "metadata": {
    "scrolled": true,
    "vscode": {
     "languageId": "python"
    }
   },
   "outputs": [
    {
     "name": "stdout",
     "output_type": "stream",
     "text": [
      "<class 'pandas.core.frame.DataFrame'>\n",
      "RangeIndex: 99441 entries, 0 to 99440\n",
      "Data columns (total 8 columns):\n",
      " #   Column                         Non-Null Count  Dtype \n",
      "---  ------                         --------------  ----- \n",
      " 0   order_id                       99441 non-null  object\n",
      " 1   customer_id                    99441 non-null  object\n",
      " 2   order_status                   99441 non-null  object\n",
      " 3   order_purchase_timestamp       99441 non-null  object\n",
      " 4   order_approved_at              99281 non-null  object\n",
      " 5   order_delivered_carrier_date   97658 non-null  object\n",
      " 6   order_delivered_customer_date  96476 non-null  object\n",
      " 7   order_estimated_delivery_date  99441 non-null  object\n",
      "dtypes: object(8)\n",
      "memory usage: 6.1+ MB\n"
     ]
    }
   ],
   "source": [
    "orders.info()"
   ]
  },
  {
   "cell_type": "code",
   "execution_count": 32,
   "id": "355aaf22",
   "metadata": {
    "vscode": {
     "languageId": "python"
    }
   },
   "outputs": [
    {
     "data": {
      "text/plain": [
       "order_id                         99441\n",
       "customer_id                      99441\n",
       "order_status                         8\n",
       "order_purchase_timestamp         98875\n",
       "order_approved_at                90733\n",
       "order_delivered_carrier_date     81018\n",
       "order_delivered_customer_date    95664\n",
       "order_estimated_delivery_date      459\n",
       "dtype: int64"
      ]
     },
     "execution_count": 32,
     "metadata": {},
     "output_type": "execute_result"
    }
   ],
   "source": [
    "orders.nunique()"
   ]
  },
  {
   "cell_type": "code",
   "execution_count": 33,
   "id": "954a5872",
   "metadata": {
    "vscode": {
     "languageId": "python"
    }
   },
   "outputs": [
    {
     "data": {
      "text/plain": [
       "order_status\n",
       "delivered      96478\n",
       "shipped         1107\n",
       "canceled         625\n",
       "unavailable      609\n",
       "invoiced         314\n",
       "processing       301\n",
       "created            5\n",
       "approved           2\n",
       "Name: count, dtype: int64"
      ]
     },
     "execution_count": 33,
     "metadata": {},
     "output_type": "execute_result"
    }
   ],
   "source": [
    "orders.order_status.value_counts()"
   ]
  },
  {
   "cell_type": "code",
   "execution_count": 34,
   "id": "ea68b24c",
   "metadata": {
    "vscode": {
     "languageId": "python"
    }
   },
   "outputs": [
    {
     "data": {
      "text/html": [
       "<div>\n",
       "<style scoped>\n",
       "    .dataframe tbody tr th:only-of-type {\n",
       "        vertical-align: middle;\n",
       "    }\n",
       "\n",
       "    .dataframe tbody tr th {\n",
       "        vertical-align: top;\n",
       "    }\n",
       "\n",
       "    .dataframe thead th {\n",
       "        text-align: right;\n",
       "    }\n",
       "</style>\n",
       "<table border=\"1\" class=\"dataframe\">\n",
       "  <thead>\n",
       "    <tr style=\"text-align: right;\">\n",
       "      <th></th>\n",
       "      <th>product_id</th>\n",
       "      <th>product_category_name</th>\n",
       "      <th>product_name_lenght</th>\n",
       "      <th>product_description_lenght</th>\n",
       "      <th>product_photos_qty</th>\n",
       "      <th>product_weight_g</th>\n",
       "      <th>product_length_cm</th>\n",
       "      <th>product_height_cm</th>\n",
       "      <th>product_width_cm</th>\n",
       "    </tr>\n",
       "  </thead>\n",
       "  <tbody>\n",
       "    <tr>\n",
       "      <th>0</th>\n",
       "      <td>1e9e8ef04dbcff4541ed26657ea517e5</td>\n",
       "      <td>perfumaria</td>\n",
       "      <td>40.0</td>\n",
       "      <td>287.0</td>\n",
       "      <td>1.0</td>\n",
       "      <td>225.0</td>\n",
       "      <td>16.0</td>\n",
       "      <td>10.0</td>\n",
       "      <td>14.0</td>\n",
       "    </tr>\n",
       "    <tr>\n",
       "      <th>1</th>\n",
       "      <td>3aa071139cb16b67ca9e5dea641aaa2f</td>\n",
       "      <td>artes</td>\n",
       "      <td>44.0</td>\n",
       "      <td>276.0</td>\n",
       "      <td>1.0</td>\n",
       "      <td>1000.0</td>\n",
       "      <td>30.0</td>\n",
       "      <td>18.0</td>\n",
       "      <td>20.0</td>\n",
       "    </tr>\n",
       "    <tr>\n",
       "      <th>2</th>\n",
       "      <td>96bd76ec8810374ed1b65e291975717f</td>\n",
       "      <td>esporte_lazer</td>\n",
       "      <td>46.0</td>\n",
       "      <td>250.0</td>\n",
       "      <td>1.0</td>\n",
       "      <td>154.0</td>\n",
       "      <td>18.0</td>\n",
       "      <td>9.0</td>\n",
       "      <td>15.0</td>\n",
       "    </tr>\n",
       "    <tr>\n",
       "      <th>3</th>\n",
       "      <td>cef67bcfe19066a932b7673e239eb23d</td>\n",
       "      <td>bebes</td>\n",
       "      <td>27.0</td>\n",
       "      <td>261.0</td>\n",
       "      <td>1.0</td>\n",
       "      <td>371.0</td>\n",
       "      <td>26.0</td>\n",
       "      <td>4.0</td>\n",
       "      <td>26.0</td>\n",
       "    </tr>\n",
       "    <tr>\n",
       "      <th>4</th>\n",
       "      <td>9dc1a7de274444849c219cff195d0b71</td>\n",
       "      <td>utilidades_domesticas</td>\n",
       "      <td>37.0</td>\n",
       "      <td>402.0</td>\n",
       "      <td>4.0</td>\n",
       "      <td>625.0</td>\n",
       "      <td>20.0</td>\n",
       "      <td>17.0</td>\n",
       "      <td>13.0</td>\n",
       "    </tr>\n",
       "  </tbody>\n",
       "</table>\n",
       "</div>"
      ],
      "text/plain": [
       "                         product_id  product_category_name   \n",
       "0  1e9e8ef04dbcff4541ed26657ea517e5             perfumaria  \\\n",
       "1  3aa071139cb16b67ca9e5dea641aaa2f                  artes   \n",
       "2  96bd76ec8810374ed1b65e291975717f          esporte_lazer   \n",
       "3  cef67bcfe19066a932b7673e239eb23d                  bebes   \n",
       "4  9dc1a7de274444849c219cff195d0b71  utilidades_domesticas   \n",
       "\n",
       "   product_name_lenght  product_description_lenght  product_photos_qty   \n",
       "0                 40.0                       287.0                 1.0  \\\n",
       "1                 44.0                       276.0                 1.0   \n",
       "2                 46.0                       250.0                 1.0   \n",
       "3                 27.0                       261.0                 1.0   \n",
       "4                 37.0                       402.0                 4.0   \n",
       "\n",
       "   product_weight_g  product_length_cm  product_height_cm  product_width_cm  \n",
       "0             225.0               16.0               10.0              14.0  \n",
       "1            1000.0               30.0               18.0              20.0  \n",
       "2             154.0               18.0                9.0              15.0  \n",
       "3             371.0               26.0                4.0              26.0  \n",
       "4             625.0               20.0               17.0              13.0  "
      ]
     },
     "execution_count": 34,
     "metadata": {},
     "output_type": "execute_result"
    }
   ],
   "source": [
    "product.head()"
   ]
  },
  {
   "cell_type": "code",
   "execution_count": 35,
   "id": "9f404e4e",
   "metadata": {
    "vscode": {
     "languageId": "python"
    }
   },
   "outputs": [
    {
     "name": "stdout",
     "output_type": "stream",
     "text": [
      "<class 'pandas.core.frame.DataFrame'>\n",
      "RangeIndex: 32951 entries, 0 to 32950\n",
      "Data columns (total 9 columns):\n",
      " #   Column                      Non-Null Count  Dtype  \n",
      "---  ------                      --------------  -----  \n",
      " 0   product_id                  32951 non-null  object \n",
      " 1   product_category_name       32341 non-null  object \n",
      " 2   product_name_lenght         32341 non-null  float64\n",
      " 3   product_description_lenght  32341 non-null  float64\n",
      " 4   product_photos_qty          32341 non-null  float64\n",
      " 5   product_weight_g            32949 non-null  float64\n",
      " 6   product_length_cm           32949 non-null  float64\n",
      " 7   product_height_cm           32949 non-null  float64\n",
      " 8   product_width_cm            32949 non-null  float64\n",
      "dtypes: float64(7), object(2)\n",
      "memory usage: 2.3+ MB\n"
     ]
    }
   ],
   "source": [
    "product.info()"
   ]
  },
  {
   "cell_type": "code",
   "execution_count": 36,
   "id": "2464d802",
   "metadata": {
    "vscode": {
     "languageId": "python"
    }
   },
   "outputs": [
    {
     "data": {
      "text/plain": [
       "product_id                    32951\n",
       "product_category_name            73\n",
       "product_name_lenght              66\n",
       "product_description_lenght     2960\n",
       "product_photos_qty               19\n",
       "product_weight_g               2204\n",
       "product_length_cm                99\n",
       "product_height_cm               102\n",
       "product_width_cm                 95\n",
       "dtype: int64"
      ]
     },
     "execution_count": 36,
     "metadata": {},
     "output_type": "execute_result"
    }
   ],
   "source": [
    "product.nunique()"
   ]
  },
  {
   "cell_type": "code",
   "execution_count": 37,
   "id": "7aad7820",
   "metadata": {
    "vscode": {
     "languageId": "python"
    }
   },
   "outputs": [
    {
     "data": {
      "text/plain": [
       "product_id                      0\n",
       "product_category_name         610\n",
       "product_name_lenght           610\n",
       "product_description_lenght    610\n",
       "product_photos_qty            610\n",
       "product_weight_g                2\n",
       "product_length_cm               2\n",
       "product_height_cm               2\n",
       "product_width_cm                2\n",
       "dtype: int64"
      ]
     },
     "execution_count": 37,
     "metadata": {},
     "output_type": "execute_result"
    }
   ],
   "source": [
    "product.isna().sum()"
   ]
  },
  {
   "cell_type": "code",
   "execution_count": 38,
   "id": "6e167dc6",
   "metadata": {
    "vscode": {
     "languageId": "python"
    }
   },
   "outputs": [
    {
     "data": {
      "text/html": [
       "<div>\n",
       "<style scoped>\n",
       "    .dataframe tbody tr th:only-of-type {\n",
       "        vertical-align: middle;\n",
       "    }\n",
       "\n",
       "    .dataframe tbody tr th {\n",
       "        vertical-align: top;\n",
       "    }\n",
       "\n",
       "    .dataframe thead th {\n",
       "        text-align: right;\n",
       "    }\n",
       "</style>\n",
       "<table border=\"1\" class=\"dataframe\">\n",
       "  <thead>\n",
       "    <tr style=\"text-align: right;\">\n",
       "      <th></th>\n",
       "      <th>seller_id</th>\n",
       "      <th>seller_zip_code_prefix</th>\n",
       "      <th>seller_city</th>\n",
       "      <th>seller_state</th>\n",
       "    </tr>\n",
       "  </thead>\n",
       "  <tbody>\n",
       "    <tr>\n",
       "      <th>0</th>\n",
       "      <td>3442f8959a84dea7ee197c632cb2df15</td>\n",
       "      <td>13023</td>\n",
       "      <td>campinas</td>\n",
       "      <td>SP</td>\n",
       "    </tr>\n",
       "    <tr>\n",
       "      <th>1</th>\n",
       "      <td>d1b65fc7debc3361ea86b5f14c68d2e2</td>\n",
       "      <td>13844</td>\n",
       "      <td>mogi guacu</td>\n",
       "      <td>SP</td>\n",
       "    </tr>\n",
       "    <tr>\n",
       "      <th>2</th>\n",
       "      <td>ce3ad9de960102d0677a81f5d0bb7b2d</td>\n",
       "      <td>20031</td>\n",
       "      <td>rio de janeiro</td>\n",
       "      <td>RJ</td>\n",
       "    </tr>\n",
       "    <tr>\n",
       "      <th>3</th>\n",
       "      <td>c0f3eea2e14555b6faeea3dd58c1b1c3</td>\n",
       "      <td>4195</td>\n",
       "      <td>sao paulo</td>\n",
       "      <td>SP</td>\n",
       "    </tr>\n",
       "    <tr>\n",
       "      <th>4</th>\n",
       "      <td>51a04a8a6bdcb23deccc82b0b80742cf</td>\n",
       "      <td>12914</td>\n",
       "      <td>braganca paulista</td>\n",
       "      <td>SP</td>\n",
       "    </tr>\n",
       "  </tbody>\n",
       "</table>\n",
       "</div>"
      ],
      "text/plain": [
       "                          seller_id  seller_zip_code_prefix   \n",
       "0  3442f8959a84dea7ee197c632cb2df15                   13023  \\\n",
       "1  d1b65fc7debc3361ea86b5f14c68d2e2                   13844   \n",
       "2  ce3ad9de960102d0677a81f5d0bb7b2d                   20031   \n",
       "3  c0f3eea2e14555b6faeea3dd58c1b1c3                    4195   \n",
       "4  51a04a8a6bdcb23deccc82b0b80742cf                   12914   \n",
       "\n",
       "         seller_city seller_state  \n",
       "0           campinas           SP  \n",
       "1         mogi guacu           SP  \n",
       "2     rio de janeiro           RJ  \n",
       "3          sao paulo           SP  \n",
       "4  braganca paulista           SP  "
      ]
     },
     "execution_count": 38,
     "metadata": {},
     "output_type": "execute_result"
    }
   ],
   "source": [
    "seller.head()"
   ]
  },
  {
   "cell_type": "code",
   "execution_count": 39,
   "id": "39fafc1a",
   "metadata": {
    "vscode": {
     "languageId": "python"
    }
   },
   "outputs": [
    {
     "name": "stdout",
     "output_type": "stream",
     "text": [
      "<class 'pandas.core.frame.DataFrame'>\n",
      "RangeIndex: 3095 entries, 0 to 3094\n",
      "Data columns (total 4 columns):\n",
      " #   Column                  Non-Null Count  Dtype \n",
      "---  ------                  --------------  ----- \n",
      " 0   seller_id               3095 non-null   object\n",
      " 1   seller_zip_code_prefix  3095 non-null   int64 \n",
      " 2   seller_city             3095 non-null   object\n",
      " 3   seller_state            3095 non-null   object\n",
      "dtypes: int64(1), object(3)\n",
      "memory usage: 96.8+ KB\n"
     ]
    }
   ],
   "source": [
    "seller.info()"
   ]
  },
  {
   "cell_type": "code",
   "execution_count": 40,
   "id": "d4bf2ea0",
   "metadata": {
    "vscode": {
     "languageId": "python"
    }
   },
   "outputs": [
    {
     "data": {
      "text/plain": [
       "seller_id                 3095\n",
       "seller_zip_code_prefix    2246\n",
       "seller_city                611\n",
       "seller_state                23\n",
       "dtype: int64"
      ]
     },
     "execution_count": 40,
     "metadata": {},
     "output_type": "execute_result"
    }
   ],
   "source": [
    "seller.nunique()"
   ]
  },
  {
   "cell_type": "code",
   "execution_count": 41,
   "id": "ef4968ff",
   "metadata": {
    "vscode": {
     "languageId": "python"
    }
   },
   "outputs": [
    {
     "data": {
      "text/plain": [
       "seller_id                 0.0\n",
       "seller_zip_code_prefix    0.0\n",
       "seller_city               0.0\n",
       "seller_state              0.0\n",
       "dtype: float64"
      ]
     },
     "execution_count": 41,
     "metadata": {},
     "output_type": "execute_result"
    }
   ],
   "source": [
    "seller.isna().mean()"
   ]
  },
  {
   "cell_type": "markdown",
   "id": "d808b453-8931-4cac-b9a3-454d4c690469",
   "metadata": {},
   "source": [
    "Let's see resume all the datasets basics information in a table"
   ]
  },
  {
   "cell_type": "code",
   "execution_count": 42,
   "id": "427d6669",
   "metadata": {
    "vscode": {
     "languageId": "python"
    }
   },
   "outputs": [],
   "source": [
    "def relational_data(datasets, titles, drop_duplicated=False, cmap='YlGnBu'):\n",
    "    \n",
    "    \"\"\"This function describe the contains of the multiple datasets:\n",
    "    \n",
    "        \n",
    "        datasets : list of data \n",
    "        titles : the title of each data in datasets in list\n",
    "        cmap :  Colormaps in Matplotlib\n",
    "        drop_duplicated : False by default. True there's duplicated to drop.\n",
    "    \n",
    "    \"\"\"\n",
    "    \n",
    "    if drop_duplicated:\n",
    "        duplicated_datasets=[]\n",
    "        for data in datasets:\n",
    "            data.drop(data[data.duplicated()].index, axis=0, inplace=True)\n",
    "            duplicated_datasets.append(data)\n",
    "        datasets = duplicated_datasets\n",
    "        \n",
    "    else : \n",
    "        datasets = datasets\n",
    "            \n",
    "    \n",
    "    data_summary = pd.DataFrame({},)\n",
    "    data_summary['datasets']= titles\n",
    "    data_summary['columns'] = [', '.join([col for col, null in data.isnull().sum().items() ]) for data in datasets]\n",
    "    data_summary['total_rows']= [data.shape[0] for data in datasets]\n",
    "    data_summary['total_cols']= [data.shape[1] for data in datasets]\n",
    "    data_summary['total_duplicate']= [len(data[data.duplicated()]) for data in datasets]\n",
    "    data_summary['total_null']= [data.isnull().sum().sum() for data in datasets]\n",
    "    data_summary['null_cols'] = [', '.join([col for col, null in data.isnull().sum().items() if null > 0]) for data in datasets]\n",
    "    \n",
    "    \n",
    "    return data_summary.style.background_gradient(cmap=cmap)\n",
    "    \n",
    "    "
   ]
  },
  {
   "cell_type": "code",
   "execution_count": 43,
   "id": "48fcd179",
   "metadata": {
    "vscode": {
     "languageId": "python"
    }
   },
   "outputs": [
    {
     "data": {
      "text/html": [
       "<style type=\"text/css\">\n",
       "#T_fe73b_row0_col2, #T_fe73b_row4_col2, #T_fe73b_row5_col2 {\n",
       "  background-color: #eaf7b1;\n",
       "  color: #000000;\n",
       "}\n",
       "#T_fe73b_row0_col3, #T_fe73b_row1_col3, #T_fe73b_row3_col3 {\n",
       "  background-color: #65c3bf;\n",
       "  color: #000000;\n",
       "}\n",
       "#T_fe73b_row0_col4, #T_fe73b_row0_col5, #T_fe73b_row1_col4, #T_fe73b_row1_col5, #T_fe73b_row2_col4, #T_fe73b_row2_col5, #T_fe73b_row3_col4, #T_fe73b_row3_col5, #T_fe73b_row4_col4, #T_fe73b_row4_col5, #T_fe73b_row5_col4, #T_fe73b_row6_col4, #T_fe73b_row7_col4, #T_fe73b_row7_col5, #T_fe73b_row8_col2, #T_fe73b_row8_col3, #T_fe73b_row8_col4, #T_fe73b_row8_col5 {\n",
       "  background-color: #ffffd9;\n",
       "  color: #000000;\n",
       "}\n",
       "#T_fe73b_row1_col2, #T_fe73b_row5_col5, #T_fe73b_row6_col3 {\n",
       "  background-color: #081d58;\n",
       "  color: #f1f1f1;\n",
       "}\n",
       "#T_fe73b_row2_col2 {\n",
       "  background-color: #e5f5b2;\n",
       "  color: #000000;\n",
       "}\n",
       "#T_fe73b_row2_col3, #T_fe73b_row4_col3 {\n",
       "  background-color: #216daf;\n",
       "  color: #f1f1f1;\n",
       "}\n",
       "#T_fe73b_row3_col2 {\n",
       "  background-color: #e9f7b1;\n",
       "  color: #000000;\n",
       "}\n",
       "#T_fe73b_row5_col3 {\n",
       "  background-color: #253997;\n",
       "  color: #f1f1f1;\n",
       "}\n",
       "#T_fe73b_row6_col2 {\n",
       "  background-color: #f9fdcb;\n",
       "  color: #000000;\n",
       "}\n",
       "#T_fe73b_row6_col5 {\n",
       "  background-color: #42b6c4;\n",
       "  color: #f1f1f1;\n",
       "}\n",
       "#T_fe73b_row7_col2 {\n",
       "  background-color: #feffd8;\n",
       "  color: #000000;\n",
       "}\n",
       "#T_fe73b_row7_col3 {\n",
       "  background-color: #b2e1b6;\n",
       "  color: #000000;\n",
       "}\n",
       "</style>\n",
       "<table id=\"T_fe73b\">\n",
       "  <thead>\n",
       "    <tr>\n",
       "      <th class=\"blank level0\" >&nbsp;</th>\n",
       "      <th id=\"T_fe73b_level0_col0\" class=\"col_heading level0 col0\" >datasets</th>\n",
       "      <th id=\"T_fe73b_level0_col1\" class=\"col_heading level0 col1\" >columns</th>\n",
       "      <th id=\"T_fe73b_level0_col2\" class=\"col_heading level0 col2\" >total_rows</th>\n",
       "      <th id=\"T_fe73b_level0_col3\" class=\"col_heading level0 col3\" >total_cols</th>\n",
       "      <th id=\"T_fe73b_level0_col4\" class=\"col_heading level0 col4\" >total_duplicate</th>\n",
       "      <th id=\"T_fe73b_level0_col5\" class=\"col_heading level0 col5\" >total_null</th>\n",
       "      <th id=\"T_fe73b_level0_col6\" class=\"col_heading level0 col6\" >null_cols</th>\n",
       "    </tr>\n",
       "  </thead>\n",
       "  <tbody>\n",
       "    <tr>\n",
       "      <th id=\"T_fe73b_level0_row0\" class=\"row_heading level0 row0\" >0</th>\n",
       "      <td id=\"T_fe73b_row0_col0\" class=\"data row0 col0\" >customers</td>\n",
       "      <td id=\"T_fe73b_row0_col1\" class=\"data row0 col1\" >customer_id, customer_unique_id, customer_zip_code_prefix, customer_city, customer_state</td>\n",
       "      <td id=\"T_fe73b_row0_col2\" class=\"data row0 col2\" >99441</td>\n",
       "      <td id=\"T_fe73b_row0_col3\" class=\"data row0 col3\" >5</td>\n",
       "      <td id=\"T_fe73b_row0_col4\" class=\"data row0 col4\" >0</td>\n",
       "      <td id=\"T_fe73b_row0_col5\" class=\"data row0 col5\" >0</td>\n",
       "      <td id=\"T_fe73b_row0_col6\" class=\"data row0 col6\" ></td>\n",
       "    </tr>\n",
       "    <tr>\n",
       "      <th id=\"T_fe73b_level0_row1\" class=\"row_heading level0 row1\" >1</th>\n",
       "      <td id=\"T_fe73b_row1_col0\" class=\"data row1 col0\" >geolocation</td>\n",
       "      <td id=\"T_fe73b_row1_col1\" class=\"data row1 col1\" >geolocation_zip_code_prefix, geolocation_lat, geolocation_lng, geolocation_city, geolocation_state</td>\n",
       "      <td id=\"T_fe73b_row1_col2\" class=\"data row1 col2\" >738332</td>\n",
       "      <td id=\"T_fe73b_row1_col3\" class=\"data row1 col3\" >5</td>\n",
       "      <td id=\"T_fe73b_row1_col4\" class=\"data row1 col4\" >0</td>\n",
       "      <td id=\"T_fe73b_row1_col5\" class=\"data row1 col5\" >0</td>\n",
       "      <td id=\"T_fe73b_row1_col6\" class=\"data row1 col6\" ></td>\n",
       "    </tr>\n",
       "    <tr>\n",
       "      <th id=\"T_fe73b_level0_row2\" class=\"row_heading level0 row2\" >2</th>\n",
       "      <td id=\"T_fe73b_row2_col0\" class=\"data row2 col0\" >items</td>\n",
       "      <td id=\"T_fe73b_row2_col1\" class=\"data row2 col1\" >order_id, order_item_id, product_id, seller_id, shipping_limit_date, price, freight_value</td>\n",
       "      <td id=\"T_fe73b_row2_col2\" class=\"data row2 col2\" >112650</td>\n",
       "      <td id=\"T_fe73b_row2_col3\" class=\"data row2 col3\" >7</td>\n",
       "      <td id=\"T_fe73b_row2_col4\" class=\"data row2 col4\" >0</td>\n",
       "      <td id=\"T_fe73b_row2_col5\" class=\"data row2 col5\" >0</td>\n",
       "      <td id=\"T_fe73b_row2_col6\" class=\"data row2 col6\" ></td>\n",
       "    </tr>\n",
       "    <tr>\n",
       "      <th id=\"T_fe73b_level0_row3\" class=\"row_heading level0 row3\" >3</th>\n",
       "      <td id=\"T_fe73b_row3_col0\" class=\"data row3 col0\" >payments</td>\n",
       "      <td id=\"T_fe73b_row3_col1\" class=\"data row3 col1\" >order_id, payment_sequential, payment_type, payment_installments, payment_value</td>\n",
       "      <td id=\"T_fe73b_row3_col2\" class=\"data row3 col2\" >103886</td>\n",
       "      <td id=\"T_fe73b_row3_col3\" class=\"data row3 col3\" >5</td>\n",
       "      <td id=\"T_fe73b_row3_col4\" class=\"data row3 col4\" >0</td>\n",
       "      <td id=\"T_fe73b_row3_col5\" class=\"data row3 col5\" >0</td>\n",
       "      <td id=\"T_fe73b_row3_col6\" class=\"data row3 col6\" ></td>\n",
       "    </tr>\n",
       "    <tr>\n",
       "      <th id=\"T_fe73b_level0_row4\" class=\"row_heading level0 row4\" >4</th>\n",
       "      <td id=\"T_fe73b_row4_col0\" class=\"data row4 col0\" >reviews</td>\n",
       "      <td id=\"T_fe73b_row4_col1\" class=\"data row4 col1\" >review_id, order_id, review_score, review_comment_title, review_comment_message, review_creation_date, review_answer_timestamp</td>\n",
       "      <td id=\"T_fe73b_row4_col2\" class=\"data row4 col2\" >99224</td>\n",
       "      <td id=\"T_fe73b_row4_col3\" class=\"data row4 col3\" >7</td>\n",
       "      <td id=\"T_fe73b_row4_col4\" class=\"data row4 col4\" >0</td>\n",
       "      <td id=\"T_fe73b_row4_col5\" class=\"data row4 col5\" >0</td>\n",
       "      <td id=\"T_fe73b_row4_col6\" class=\"data row4 col6\" ></td>\n",
       "    </tr>\n",
       "    <tr>\n",
       "      <th id=\"T_fe73b_level0_row5\" class=\"row_heading level0 row5\" >5</th>\n",
       "      <td id=\"T_fe73b_row5_col0\" class=\"data row5 col0\" >orders</td>\n",
       "      <td id=\"T_fe73b_row5_col1\" class=\"data row5 col1\" >order_id, customer_id, order_status, order_purchase_timestamp, order_approved_at, order_delivered_carrier_date, order_delivered_customer_date, order_estimated_delivery_date</td>\n",
       "      <td id=\"T_fe73b_row5_col2\" class=\"data row5 col2\" >99441</td>\n",
       "      <td id=\"T_fe73b_row5_col3\" class=\"data row5 col3\" >8</td>\n",
       "      <td id=\"T_fe73b_row5_col4\" class=\"data row5 col4\" >0</td>\n",
       "      <td id=\"T_fe73b_row5_col5\" class=\"data row5 col5\" >4908</td>\n",
       "      <td id=\"T_fe73b_row5_col6\" class=\"data row5 col6\" >order_approved_at, order_delivered_carrier_date, order_delivered_customer_date</td>\n",
       "    </tr>\n",
       "    <tr>\n",
       "      <th id=\"T_fe73b_level0_row6\" class=\"row_heading level0 row6\" >6</th>\n",
       "      <td id=\"T_fe73b_row6_col0\" class=\"data row6 col0\" >products</td>\n",
       "      <td id=\"T_fe73b_row6_col1\" class=\"data row6 col1\" >product_id, product_category_name, product_name_lenght, product_description_lenght, product_photos_qty, product_weight_g, product_length_cm, product_height_cm, product_width_cm</td>\n",
       "      <td id=\"T_fe73b_row6_col2\" class=\"data row6 col2\" >32951</td>\n",
       "      <td id=\"T_fe73b_row6_col3\" class=\"data row6 col3\" >9</td>\n",
       "      <td id=\"T_fe73b_row6_col4\" class=\"data row6 col4\" >0</td>\n",
       "      <td id=\"T_fe73b_row6_col5\" class=\"data row6 col5\" >2448</td>\n",
       "      <td id=\"T_fe73b_row6_col6\" class=\"data row6 col6\" >product_category_name, product_name_lenght, product_description_lenght, product_photos_qty, product_weight_g, product_length_cm, product_height_cm, product_width_cm</td>\n",
       "    </tr>\n",
       "    <tr>\n",
       "      <th id=\"T_fe73b_level0_row7\" class=\"row_heading level0 row7\" >7</th>\n",
       "      <td id=\"T_fe73b_row7_col0\" class=\"data row7 col0\" >sellers</td>\n",
       "      <td id=\"T_fe73b_row7_col1\" class=\"data row7 col1\" >seller_id, seller_zip_code_prefix, seller_city, seller_state</td>\n",
       "      <td id=\"T_fe73b_row7_col2\" class=\"data row7 col2\" >3095</td>\n",
       "      <td id=\"T_fe73b_row7_col3\" class=\"data row7 col3\" >4</td>\n",
       "      <td id=\"T_fe73b_row7_col4\" class=\"data row7 col4\" >0</td>\n",
       "      <td id=\"T_fe73b_row7_col5\" class=\"data row7 col5\" >0</td>\n",
       "      <td id=\"T_fe73b_row7_col6\" class=\"data row7 col6\" ></td>\n",
       "    </tr>\n",
       "    <tr>\n",
       "      <th id=\"T_fe73b_level0_row8\" class=\"row_heading level0 row8\" >8</th>\n",
       "      <td id=\"T_fe73b_row8_col0\" class=\"data row8 col0\" >category</td>\n",
       "      <td id=\"T_fe73b_row8_col1\" class=\"data row8 col1\" >product_category_name, product_category_name_english</td>\n",
       "      <td id=\"T_fe73b_row8_col2\" class=\"data row8 col2\" >71</td>\n",
       "      <td id=\"T_fe73b_row8_col3\" class=\"data row8 col3\" >2</td>\n",
       "      <td id=\"T_fe73b_row8_col4\" class=\"data row8 col4\" >0</td>\n",
       "      <td id=\"T_fe73b_row8_col5\" class=\"data row8 col5\" >0</td>\n",
       "      <td id=\"T_fe73b_row8_col6\" class=\"data row8 col6\" ></td>\n",
       "    </tr>\n",
       "  </tbody>\n",
       "</table>\n"
      ],
      "text/plain": [
       "<pandas.io.formats.style.Styler at 0x1e34c283c10>"
      ]
     },
     "execution_count": 43,
     "metadata": {},
     "output_type": "execute_result"
    }
   ],
   "source": [
    "datasets = [customer, geolocation, order_items, order_payment, order_reviews, orders, product, seller, category]\n",
    "titles = [\"customers\", \"geolocation\", \"items\", \"payments\", \"reviews\", \"orders\", \"products\", \"sellers\", \"category\"]\n",
    "relational_data(datasets, titles, drop_duplicated=True )"
   ]
  },
  {
   "cell_type": "markdown",
   "id": "f33009d5-0a93-4485-951e-1bc70bd76791",
   "metadata": {},
   "source": [
    "<a id=\"merge\"></a>\n",
    "## <span style=\"color:#33afff  ;\">  Datasets merging </span>"
   ]
  },
  {
   "cell_type": "markdown",
   "id": "254d205b",
   "metadata": {},
   "source": [
    "Since total rows are different, it is necessary to check duplicated rows on merging features before merging our datasets."
   ]
  },
  {
   "cell_type": "markdown",
   "id": "a76963a4-3929-4654-847c-56bc34fa2c0e",
   "metadata": {},
   "source": [
    "Since we will need to calculate the distance between the customer place and seller place, we need to have their respective geographical coordinates.\n",
    "\n",
    "To do so we need to take into account a possible duplication of the rows."
   ]
  },
  {
   "cell_type": "code",
   "execution_count": 44,
   "id": "b2d831cc-273f-488f-9d9d-1d7f08761027",
   "metadata": {
    "vscode": {
     "languageId": "python"
    }
   },
   "outputs": [],
   "source": [
    "code = customer.customer_zip_code_prefix.unique() #we get the zip code for all customers\n",
    "\n",
    "customer_location = geolocation[geolocation.geolocation_zip_code_prefix.isin(code)] #get cutomer geographical coordinates\n",
    "\n",
    "customer_location.drop([\"geolocation_city\", \"geolocation_state\"], axis=1, inplace=True) #drop the unecessaries columns\n",
    "customer_location.columns = [\"customer_zip_code_prefix\", \"customer_lat\", \"customer_lng\"]  # rename columns\n",
    "customer_location.reset_index(drop=True, inplace=True) #reset index"
   ]
  },
  {
   "cell_type": "markdown",
   "id": "850cbd27-581f-4beb-bb34-cbfc7d2cac85",
   "metadata": {},
   "source": [
    "Now we had to merge cutomers location dataset with customer dataset and drop duplicates"
   ]
  },
  {
   "cell_type": "code",
   "execution_count": 45,
   "id": "b1ca9129-1107-4ae5-9bda-6dba30404573",
   "metadata": {
    "vscode": {
     "languageId": "python"
    }
   },
   "outputs": [
    {
     "data": {
      "text/html": [
       "<div>\n",
       "<style scoped>\n",
       "    .dataframe tbody tr th:only-of-type {\n",
       "        vertical-align: middle;\n",
       "    }\n",
       "\n",
       "    .dataframe tbody tr th {\n",
       "        vertical-align: top;\n",
       "    }\n",
       "\n",
       "    .dataframe thead th {\n",
       "        text-align: right;\n",
       "    }\n",
       "</style>\n",
       "<table border=\"1\" class=\"dataframe\">\n",
       "  <thead>\n",
       "    <tr style=\"text-align: right;\">\n",
       "      <th></th>\n",
       "      <th>customer_id</th>\n",
       "      <th>customer_unique_id</th>\n",
       "      <th>customer_zip_code_prefix</th>\n",
       "      <th>customer_city</th>\n",
       "      <th>customer_state</th>\n",
       "      <th>customer_lat</th>\n",
       "      <th>customer_lng</th>\n",
       "    </tr>\n",
       "  </thead>\n",
       "  <tbody>\n",
       "    <tr>\n",
       "      <th>0</th>\n",
       "      <td>06b8999e2fba1a1fbc88172c00ba8bc7</td>\n",
       "      <td>861eff4711a542e4b93843c6dd7febb0</td>\n",
       "      <td>14409</td>\n",
       "      <td>franca</td>\n",
       "      <td>SP</td>\n",
       "      <td>-20.509897</td>\n",
       "      <td>-47.397866</td>\n",
       "    </tr>\n",
       "    <tr>\n",
       "      <th>1</th>\n",
       "      <td>18955e83d337fd6b2def6b18a428ac77</td>\n",
       "      <td>290c77bc529b7ac935b93aa66c333dc3</td>\n",
       "      <td>9790</td>\n",
       "      <td>sao bernardo do campo</td>\n",
       "      <td>SP</td>\n",
       "      <td>-23.726853</td>\n",
       "      <td>-46.545746</td>\n",
       "    </tr>\n",
       "    <tr>\n",
       "      <th>2</th>\n",
       "      <td>4e7b3e00288586ebd08712fdd0374a03</td>\n",
       "      <td>060e732b5b29e8181a18229c7b0b2b5e</td>\n",
       "      <td>1151</td>\n",
       "      <td>sao paulo</td>\n",
       "      <td>SP</td>\n",
       "      <td>-23.527788</td>\n",
       "      <td>-46.660310</td>\n",
       "    </tr>\n",
       "    <tr>\n",
       "      <th>3</th>\n",
       "      <td>b2b6027bc5c5109e529d4dc6358b12c3</td>\n",
       "      <td>259dac757896d24d7702b9acbbff3f3c</td>\n",
       "      <td>8775</td>\n",
       "      <td>mogi das cruzes</td>\n",
       "      <td>SP</td>\n",
       "      <td>-23.496930</td>\n",
       "      <td>-46.185352</td>\n",
       "    </tr>\n",
       "    <tr>\n",
       "      <th>4</th>\n",
       "      <td>4f2d8ab171c80ec8364f7c12e35b23ad</td>\n",
       "      <td>345ecd01c38d18a9036ed96c73b8d066</td>\n",
       "      <td>13056</td>\n",
       "      <td>campinas</td>\n",
       "      <td>SP</td>\n",
       "      <td>-22.987222</td>\n",
       "      <td>-47.151073</td>\n",
       "    </tr>\n",
       "    <tr>\n",
       "      <th>...</th>\n",
       "      <td>...</td>\n",
       "      <td>...</td>\n",
       "      <td>...</td>\n",
       "      <td>...</td>\n",
       "      <td>...</td>\n",
       "      <td>...</td>\n",
       "      <td>...</td>\n",
       "    </tr>\n",
       "    <tr>\n",
       "      <th>99436</th>\n",
       "      <td>17ddf5dd5d51696bb3d7c6291687be6f</td>\n",
       "      <td>1a29b476fee25c95fbafc67c5ac95cf8</td>\n",
       "      <td>3937</td>\n",
       "      <td>sao paulo</td>\n",
       "      <td>SP</td>\n",
       "      <td>-23.587901</td>\n",
       "      <td>-46.501830</td>\n",
       "    </tr>\n",
       "    <tr>\n",
       "      <th>99437</th>\n",
       "      <td>e7b71a9017aa05c9a7fd292d714858e8</td>\n",
       "      <td>d52a67c98be1cf6a5c84435bd38d095d</td>\n",
       "      <td>6764</td>\n",
       "      <td>taboao da serra</td>\n",
       "      <td>SP</td>\n",
       "      <td>-23.612294</td>\n",
       "      <td>-46.765787</td>\n",
       "    </tr>\n",
       "    <tr>\n",
       "      <th>99438</th>\n",
       "      <td>5e28dfe12db7fb50a4b2f691faecea5e</td>\n",
       "      <td>e9f50caf99f032f0bf3c55141f019d99</td>\n",
       "      <td>60115</td>\n",
       "      <td>fortaleza</td>\n",
       "      <td>CE</td>\n",
       "      <td>-3.744128</td>\n",
       "      <td>-38.510859</td>\n",
       "    </tr>\n",
       "    <tr>\n",
       "      <th>99439</th>\n",
       "      <td>56b18e2166679b8a959d72dd06da27f9</td>\n",
       "      <td>73c2643a0a458b49f58cea58833b192e</td>\n",
       "      <td>92120</td>\n",
       "      <td>canoas</td>\n",
       "      <td>RS</td>\n",
       "      <td>-29.956391</td>\n",
       "      <td>-51.167614</td>\n",
       "    </tr>\n",
       "    <tr>\n",
       "      <th>99440</th>\n",
       "      <td>274fa6071e5e17fe303b9748641082c8</td>\n",
       "      <td>84732c5050c01db9b23e19ba39899398</td>\n",
       "      <td>6703</td>\n",
       "      <td>cotia</td>\n",
       "      <td>SP</td>\n",
       "      <td>-23.593985</td>\n",
       "      <td>-46.910591</td>\n",
       "    </tr>\n",
       "  </tbody>\n",
       "</table>\n",
       "<p>99441 rows × 7 columns</p>\n",
       "</div>"
      ],
      "text/plain": [
       "                            customer_id                customer_unique_id   \n",
       "0      06b8999e2fba1a1fbc88172c00ba8bc7  861eff4711a542e4b93843c6dd7febb0  \\\n",
       "1      18955e83d337fd6b2def6b18a428ac77  290c77bc529b7ac935b93aa66c333dc3   \n",
       "2      4e7b3e00288586ebd08712fdd0374a03  060e732b5b29e8181a18229c7b0b2b5e   \n",
       "3      b2b6027bc5c5109e529d4dc6358b12c3  259dac757896d24d7702b9acbbff3f3c   \n",
       "4      4f2d8ab171c80ec8364f7c12e35b23ad  345ecd01c38d18a9036ed96c73b8d066   \n",
       "...                                 ...                               ...   \n",
       "99436  17ddf5dd5d51696bb3d7c6291687be6f  1a29b476fee25c95fbafc67c5ac95cf8   \n",
       "99437  e7b71a9017aa05c9a7fd292d714858e8  d52a67c98be1cf6a5c84435bd38d095d   \n",
       "99438  5e28dfe12db7fb50a4b2f691faecea5e  e9f50caf99f032f0bf3c55141f019d99   \n",
       "99439  56b18e2166679b8a959d72dd06da27f9  73c2643a0a458b49f58cea58833b192e   \n",
       "99440  274fa6071e5e17fe303b9748641082c8  84732c5050c01db9b23e19ba39899398   \n",
       "\n",
       "       customer_zip_code_prefix          customer_city customer_state   \n",
       "0                         14409                 franca             SP  \\\n",
       "1                          9790  sao bernardo do campo             SP   \n",
       "2                          1151              sao paulo             SP   \n",
       "3                          8775        mogi das cruzes             SP   \n",
       "4                         13056               campinas             SP   \n",
       "...                         ...                    ...            ...   \n",
       "99436                      3937              sao paulo             SP   \n",
       "99437                      6764        taboao da serra             SP   \n",
       "99438                     60115              fortaleza             CE   \n",
       "99439                     92120                 canoas             RS   \n",
       "99440                      6703                  cotia             SP   \n",
       "\n",
       "       customer_lat  customer_lng  \n",
       "0        -20.509897    -47.397866  \n",
       "1        -23.726853    -46.545746  \n",
       "2        -23.527788    -46.660310  \n",
       "3        -23.496930    -46.185352  \n",
       "4        -22.987222    -47.151073  \n",
       "...             ...           ...  \n",
       "99436    -23.587901    -46.501830  \n",
       "99437    -23.612294    -46.765787  \n",
       "99438     -3.744128    -38.510859  \n",
       "99439    -29.956391    -51.167614  \n",
       "99440    -23.593985    -46.910591  \n",
       "\n",
       "[99441 rows x 7 columns]"
      ]
     },
     "execution_count": 45,
     "metadata": {},
     "output_type": "execute_result"
    }
   ],
   "source": [
    "customer = customer.merge(customer_location, how=\"left\", on = \"customer_zip_code_prefix\") \n",
    "customer = customer.drop_duplicates(subset=[\"customer_id\"])\n",
    "customer.reset_index(drop=True, inplace=True)\n",
    "customer"
   ]
  },
  {
   "cell_type": "code",
   "execution_count": 46,
   "id": "ca638adb-8d68-4fa9-9d0a-b0e68d8456b3",
   "metadata": {
    "vscode": {
     "languageId": "python"
    }
   },
   "outputs": [],
   "source": [
    "seller_code = seller.seller_zip_code_prefix.unique()#we get the zip code for all sellers\n",
    "seller_location = geolocation[geolocation.geolocation_zip_code_prefix.isin(seller_code)]#get sellers geographical coordinates\n",
    "seller_location.drop([\"geolocation_city\", \"geolocation_state\"], axis=1, inplace=True) #drop the unecessaries columns\n",
    "seller_location.columns = [\"seller_zip_code_prefix\", \"seller_lat\", \"seller_lng\"]  # rename columns\n",
    "seller_location.reset_index(drop=True, inplace=True)"
   ]
  },
  {
   "cell_type": "markdown",
   "id": "c3fb472b-6ea1-4529-b7be-393636fc134f",
   "metadata": {},
   "source": [
    "Now we had to merge sellers location dataset with seller dataset and drop duplicates"
   ]
  },
  {
   "cell_type": "code",
   "execution_count": 47,
   "id": "75718423-7cf5-4506-95a0-6aabc5ed2b2a",
   "metadata": {
    "vscode": {
     "languageId": "python"
    }
   },
   "outputs": [
    {
     "data": {
      "text/html": [
       "<div>\n",
       "<style scoped>\n",
       "    .dataframe tbody tr th:only-of-type {\n",
       "        vertical-align: middle;\n",
       "    }\n",
       "\n",
       "    .dataframe tbody tr th {\n",
       "        vertical-align: top;\n",
       "    }\n",
       "\n",
       "    .dataframe thead th {\n",
       "        text-align: right;\n",
       "    }\n",
       "</style>\n",
       "<table border=\"1\" class=\"dataframe\">\n",
       "  <thead>\n",
       "    <tr style=\"text-align: right;\">\n",
       "      <th></th>\n",
       "      <th>seller_id</th>\n",
       "      <th>seller_zip_code_prefix</th>\n",
       "      <th>seller_city</th>\n",
       "      <th>seller_state</th>\n",
       "      <th>seller_lat</th>\n",
       "      <th>seller_lng</th>\n",
       "    </tr>\n",
       "  </thead>\n",
       "  <tbody>\n",
       "    <tr>\n",
       "      <th>0</th>\n",
       "      <td>3442f8959a84dea7ee197c632cb2df15</td>\n",
       "      <td>13023</td>\n",
       "      <td>campinas</td>\n",
       "      <td>SP</td>\n",
       "      <td>-22.898536</td>\n",
       "      <td>-47.063125</td>\n",
       "    </tr>\n",
       "    <tr>\n",
       "      <th>1</th>\n",
       "      <td>d1b65fc7debc3361ea86b5f14c68d2e2</td>\n",
       "      <td>13844</td>\n",
       "      <td>mogi guacu</td>\n",
       "      <td>SP</td>\n",
       "      <td>-22.382941</td>\n",
       "      <td>-46.946641</td>\n",
       "    </tr>\n",
       "    <tr>\n",
       "      <th>2</th>\n",
       "      <td>ce3ad9de960102d0677a81f5d0bb7b2d</td>\n",
       "      <td>20031</td>\n",
       "      <td>rio de janeiro</td>\n",
       "      <td>RJ</td>\n",
       "      <td>-22.910641</td>\n",
       "      <td>-43.176510</td>\n",
       "    </tr>\n",
       "    <tr>\n",
       "      <th>3</th>\n",
       "      <td>c0f3eea2e14555b6faeea3dd58c1b1c3</td>\n",
       "      <td>4195</td>\n",
       "      <td>sao paulo</td>\n",
       "      <td>SP</td>\n",
       "      <td>-23.657250</td>\n",
       "      <td>-46.610759</td>\n",
       "    </tr>\n",
       "    <tr>\n",
       "      <th>4</th>\n",
       "      <td>51a04a8a6bdcb23deccc82b0b80742cf</td>\n",
       "      <td>12914</td>\n",
       "      <td>braganca paulista</td>\n",
       "      <td>SP</td>\n",
       "      <td>-22.971648</td>\n",
       "      <td>-46.533618</td>\n",
       "    </tr>\n",
       "    <tr>\n",
       "      <th>...</th>\n",
       "      <td>...</td>\n",
       "      <td>...</td>\n",
       "      <td>...</td>\n",
       "      <td>...</td>\n",
       "      <td>...</td>\n",
       "      <td>...</td>\n",
       "    </tr>\n",
       "    <tr>\n",
       "      <th>3090</th>\n",
       "      <td>98dddbc4601dd4443ca174359b237166</td>\n",
       "      <td>87111</td>\n",
       "      <td>sarandi</td>\n",
       "      <td>PR</td>\n",
       "      <td>-23.456431</td>\n",
       "      <td>-51.866369</td>\n",
       "    </tr>\n",
       "    <tr>\n",
       "      <th>3091</th>\n",
       "      <td>f8201cab383e484733266d1906e2fdfa</td>\n",
       "      <td>88137</td>\n",
       "      <td>palhoca</td>\n",
       "      <td>SC</td>\n",
       "      <td>-27.623801</td>\n",
       "      <td>-48.674286</td>\n",
       "    </tr>\n",
       "    <tr>\n",
       "      <th>3092</th>\n",
       "      <td>74871d19219c7d518d0090283e03c137</td>\n",
       "      <td>4650</td>\n",
       "      <td>sao paulo</td>\n",
       "      <td>SP</td>\n",
       "      <td>-23.659845</td>\n",
       "      <td>-46.677882</td>\n",
       "    </tr>\n",
       "    <tr>\n",
       "      <th>3093</th>\n",
       "      <td>e603cf3fec55f8697c9059638d6c8eb5</td>\n",
       "      <td>96080</td>\n",
       "      <td>pelotas</td>\n",
       "      <td>RS</td>\n",
       "      <td>-31.744231</td>\n",
       "      <td>-52.328761</td>\n",
       "    </tr>\n",
       "    <tr>\n",
       "      <th>3094</th>\n",
       "      <td>9e25199f6ef7e7c347120ff175652c3b</td>\n",
       "      <td>12051</td>\n",
       "      <td>taubate</td>\n",
       "      <td>SP</td>\n",
       "      <td>-23.016003</td>\n",
       "      <td>-45.582021</td>\n",
       "    </tr>\n",
       "  </tbody>\n",
       "</table>\n",
       "<p>3095 rows × 6 columns</p>\n",
       "</div>"
      ],
      "text/plain": [
       "                             seller_id  seller_zip_code_prefix   \n",
       "0     3442f8959a84dea7ee197c632cb2df15                   13023  \\\n",
       "1     d1b65fc7debc3361ea86b5f14c68d2e2                   13844   \n",
       "2     ce3ad9de960102d0677a81f5d0bb7b2d                   20031   \n",
       "3     c0f3eea2e14555b6faeea3dd58c1b1c3                    4195   \n",
       "4     51a04a8a6bdcb23deccc82b0b80742cf                   12914   \n",
       "...                                ...                     ...   \n",
       "3090  98dddbc4601dd4443ca174359b237166                   87111   \n",
       "3091  f8201cab383e484733266d1906e2fdfa                   88137   \n",
       "3092  74871d19219c7d518d0090283e03c137                    4650   \n",
       "3093  e603cf3fec55f8697c9059638d6c8eb5                   96080   \n",
       "3094  9e25199f6ef7e7c347120ff175652c3b                   12051   \n",
       "\n",
       "            seller_city seller_state  seller_lat  seller_lng  \n",
       "0              campinas           SP  -22.898536  -47.063125  \n",
       "1            mogi guacu           SP  -22.382941  -46.946641  \n",
       "2        rio de janeiro           RJ  -22.910641  -43.176510  \n",
       "3             sao paulo           SP  -23.657250  -46.610759  \n",
       "4     braganca paulista           SP  -22.971648  -46.533618  \n",
       "...                 ...          ...         ...         ...  \n",
       "3090            sarandi           PR  -23.456431  -51.866369  \n",
       "3091            palhoca           SC  -27.623801  -48.674286  \n",
       "3092          sao paulo           SP  -23.659845  -46.677882  \n",
       "3093            pelotas           RS  -31.744231  -52.328761  \n",
       "3094            taubate           SP  -23.016003  -45.582021  \n",
       "\n",
       "[3095 rows x 6 columns]"
      ]
     },
     "execution_count": 47,
     "metadata": {},
     "output_type": "execute_result"
    }
   ],
   "source": [
    "seller = seller.merge(seller_location, how=\"left\", on = \"seller_zip_code_prefix\")\n",
    "seller = seller.drop_duplicates(subset=[\"seller_id\"])\n",
    "seller.reset_index(drop=True, inplace=True)\n",
    "seller"
   ]
  },
  {
   "cell_type": "markdown",
   "id": "82b76117-77e8-418f-8f17-cb2dbc3ea273",
   "metadata": {},
   "source": [
    "We merge all datasets into one dataset from customers dataset\n",
    "\n",
    "To do so, we check the duplication of customers dataset first, we merge the remains datasets by interlocking."
   ]
  },
  {
   "cell_type": "code",
   "execution_count": 48,
   "id": "4fa558fd",
   "metadata": {
    "vscode": {
     "languageId": "python"
    }
   },
   "outputs": [
    {
     "name": "stdout",
     "output_type": "stream",
     "text": [
      "Our Dataset has 0 rows duplicated and 99441 rows after droping duplicated rows\n"
     ]
    }
   ],
   "source": [
    "customer_duplicate = customer[customer.duplicated(subset=[\"customer_id\"])]\n",
    "customer = customer.drop_duplicates(subset=[\"customer_id\"])\n",
    "print(\"Our Dataset has {} rows duplicated and {} rows after droping duplicated rows\".format(customer_duplicate.shape[0],\n",
    "                                                                                           customer.shape[0]))"
   ]
  },
  {
   "cell_type": "code",
   "execution_count": 49,
   "id": "c39c2e4c",
   "metadata": {
    "vscode": {
     "languageId": "python"
    }
   },
   "outputs": [],
   "source": [
    "def merge_datasets(merging_base: pd.DataFrame, datasets: List[pd.DataFrame],\n",
    "                   merging_keys: List[Union[str, List[str]]]) -> pd.DataFrame:\n",
    "    \"\"\"\n",
    "    Merges multiple datasets with a merging base using specified merging keys.\n",
    "\n",
    "    Args:\n",
    "        merging_base (pd.DataFrame): The base DataFrame to merge other datasets onto.\n",
    "        datasets (List[pd.DataFrame]): A list of DataFrames to be merged onto the merging base.\n",
    "        merging_keys (List[Union[str, List[str]]]): A list of merging keys for each dataset to perform the merge.\n",
    "\n",
    "    Returns:\n",
    "        pd.DataFrame: The merged DataFrame.\n",
    "\n",
    "    Raises:\n",
    "        None.\n",
    "    \"\"\"\n",
    "\n",
    "    data = merging_base\n",
    "    for dataset, merging_key in zip(datasets, merging_keys):\n",
    "        print(\"This dataset has {} rows duplicated and {} rows after dropping duplicated rows\".format(\n",
    "            dataset[dataset.duplicated(subset=merging_key)].shape[0],\n",
    "            dataset.drop_duplicates(subset=merging_key).shape[0]))\n",
    "        dataset = dataset.drop_duplicates(subset=merging_key)\n",
    "        data = data.merge(dataset, how=\"left\", on=merging_key)\n",
    "\n",
    "    return data\n",
    "        "
   ]
  },
  {
   "cell_type": "code",
   "execution_count": 50,
   "id": "965812ed",
   "metadata": {
    "vscode": {
     "languageId": "python"
    }
   },
   "outputs": [
    {
     "ename": "NameError",
     "evalue": "name 'merging' is not defined",
     "output_type": "error",
     "traceback": [
      "\u001b[1;31m---------------------------------------------------------------------------\u001b[0m",
      "\u001b[1;31mNameError\u001b[0m                                 Traceback (most recent call last)",
      "Cell \u001b[1;32mIn[50], line 3\u001b[0m\n\u001b[0;32m      1\u001b[0m datasets \u001b[38;5;241m=\u001b[39m [orders, order_reviews, order_payment, order_items,  product, seller]\n\u001b[0;32m      2\u001b[0m keys \u001b[38;5;241m=\u001b[39m [ \u001b[38;5;124m\"\u001b[39m\u001b[38;5;124mcustomer_id\u001b[39m\u001b[38;5;124m\"\u001b[39m, \u001b[38;5;124m\"\u001b[39m\u001b[38;5;124morder_id\u001b[39m\u001b[38;5;124m\"\u001b[39m, \u001b[38;5;124m\"\u001b[39m\u001b[38;5;124morder_id\u001b[39m\u001b[38;5;124m\"\u001b[39m, \u001b[38;5;124m\"\u001b[39m\u001b[38;5;124morder_id\u001b[39m\u001b[38;5;124m\"\u001b[39m, \u001b[38;5;124m\"\u001b[39m\u001b[38;5;124mproduct_id\u001b[39m\u001b[38;5;124m\"\u001b[39m,  \u001b[38;5;124m\"\u001b[39m\u001b[38;5;124mseller_id\u001b[39m\u001b[38;5;124m\"\u001b[39m]\n\u001b[1;32m----> 3\u001b[0m data \u001b[38;5;241m=\u001b[39m \u001b[43mmerging\u001b[49m(customer, datasets, keys)\n",
      "\u001b[1;31mNameError\u001b[0m: name 'merging' is not defined"
     ]
    }
   ],
   "source": [
    "datasets = [orders, order_reviews, order_payment, order_items,  product, seller]\n",
    "keys = [ \"customer_id\", \"order_id\", \"order_id\", \"order_id\", \"product_id\",  \"seller_id\"]\n",
    "data = merging(customer, datasets, keys)"
   ]
  },
  {
   "cell_type": "markdown",
   "id": "96db0d0d-5f61-46a8-ba07-0deb7e989285",
   "metadata": {},
   "source": [
    "Let's get the basic information of our new datasets"
   ]
  },
  {
   "cell_type": "code",
   "execution_count": null,
   "id": "087c97cc",
   "metadata": {
    "vscode": {
     "languageId": "python"
    }
   },
   "outputs": [],
   "source": [
    "data.customer_id.nunique()"
   ]
  },
  {
   "cell_type": "code",
   "execution_count": null,
   "id": "38610112",
   "metadata": {
    "scrolled": true,
    "tags": [],
    "vscode": {
     "languageId": "python"
    }
   },
   "outputs": [],
   "source": [
    "data.info()"
   ]
  },
  {
   "cell_type": "markdown",
   "id": "a452b303-e31b-4c7b-94e7-070b9a67262d",
   "metadata": {},
   "source": [
    "We convert time columns into datetime since these columns dtypes are object."
   ]
  },
  {
   "cell_type": "code",
   "execution_count": null,
   "id": "343ecddd",
   "metadata": {
    "vscode": {
     "languageId": "python"
    }
   },
   "outputs": [],
   "source": [
    "date_type= [\"order_purchase_timestamp\", \"order_approved_at\",  \"order_delivered_customer_date\", \"order_delivered_carrier_date\", \n",
    "             \"order_estimated_delivery_date\", \"review_creation_date\" , \"review_answer_timestamp\" , \"shipping_limit_date\"]\n",
    "\n",
    "for col in date_type:\n",
    "     data[col] = pd.to_datetime(data[col])\n",
    "data.dtypes"
   ]
  },
  {
   "cell_type": "code",
   "execution_count": null,
   "id": "e01a3b12",
   "metadata": {
    "vscode": {
     "languageId": "python"
    }
   },
   "outputs": [],
   "source": [
    "msno.matrix(data)"
   ]
  },
  {
   "cell_type": "code",
   "execution_count": null,
   "id": "8798af7c",
   "metadata": {
    "scrolled": true,
    "tags": [],
    "vscode": {
     "languageId": "python"
    }
   },
   "outputs": [],
   "source": [
    "data.nunique()"
   ]
  },
  {
   "cell_type": "code",
   "execution_count": null,
   "id": "28f95b74",
   "metadata": {
    "vscode": {
     "languageId": "python"
    }
   },
   "outputs": [],
   "source": [
    "data.describe()"
   ]
  },
  {
   "cell_type": "code",
   "execution_count": null,
   "id": "0a4375e6",
   "metadata": {
    "vscode": {
     "languageId": "python"
    }
   },
   "outputs": [],
   "source": [
    "data = data.dropna()\n",
    "data.shape"
   ]
  },
  {
   "cell_type": "code",
   "execution_count": null,
   "id": "8dd2e889",
   "metadata": {
    "vscode": {
     "languageId": "python"
    }
   },
   "outputs": [],
   "source": [
    "data.describe()"
   ]
  },
  {
   "cell_type": "markdown",
   "id": "f92f7ba3-8bf1-4827-8ae2-51297f5d8491",
   "metadata": {},
   "source": [
    "<a id=\"#toc\" role=\"button\" aria-pressed=\"true\" >⬆️   Go to top    ⬆️</a>"
   ]
  },
  {
   "cell_type": "markdown",
   "id": "ac90d832-de29-4ad6-9a97-5b7099e8fb2a",
   "metadata": {},
   "source": [
    "<a id=\"FV\"></a>\n",
    "# <h1 style=\"background-color:#82e0aa ;padding:18px;border-radius:10px;border:3px solid #3339ff;color:#21618c;text-align:center\" >First Visualization</h1>\n"
   ]
  },
  {
   "cell_type": "markdown",
   "id": "01fac549-ab3a-44a6-888f-78537f8472b3",
   "metadata": {},
   "source": [
    "<a id=\"hist\"></a>\n",
    "## <span style=\"color:#33afff  ;\">  Histogramm </span>"
   ]
  },
  {
   "cell_type": "code",
   "execution_count": null,
   "id": "92aa4bf5",
   "metadata": {
    "vscode": {
     "languageId": "python"
    }
   },
   "outputs": [],
   "source": [
    "pd.set_option('display.max_columns', None)"
   ]
  },
  {
   "cell_type": "code",
   "execution_count": null,
   "id": "d62a4807",
   "metadata": {
    "scrolled": true,
    "tags": [],
    "vscode": {
     "languageId": "python"
    }
   },
   "outputs": [],
   "source": [
    "data.hist(figsize=(20,20), layout=(10,3), alpha=1, color='#4682b4', ec=\"k\")\n",
    "plt.tight_layout()\n",
    "plt.show()"
   ]
  },
  {
   "cell_type": "markdown",
   "id": "41c33376-891f-42bc-bed0-f35033f6b512",
   "metadata": {},
   "source": [
    "There's some outliers which can't help to visualize the real distribution of ou data."
   ]
  },
  {
   "cell_type": "code",
   "execution_count": null,
   "id": "3ab6b97d",
   "metadata": {
    "vscode": {
     "languageId": "python"
    }
   },
   "outputs": [],
   "source": [
    "import seaborn as sns\n",
    "plt.figure(figsize=(20, 20))\n",
    "sns.relplot(data=data, x=\"order_purchase_timestamp\", y=\"payment_value\", hue=\"payment_type\", col=\"order_status\", col_wrap=2)\n",
    "plt.show()"
   ]
  },
  {
   "cell_type": "markdown",
   "id": "415a7c57-8958-4504-a175-01299917b2fb",
   "metadata": {
    "tags": []
   },
   "source": [
    "<a id=\"barplot\"></a>\n",
    "## <span style=\"color:#33afff  ;\">  Barplot </span>"
   ]
  },
  {
   "cell_type": "code",
   "execution_count": null,
   "id": "d605cc4c",
   "metadata": {
    "vscode": {
     "languageId": "python"
    }
   },
   "outputs": [],
   "source": [
    "data.groupby(data['order_purchase_timestamp'].dt.month).agg({\"order_id\": \"nunique\"}).plot(figsize=(12,8), kind=\"bar\",\n",
    "      title=\"Order number per month\",\n",
    "      ylabel=\"number of orders\",\n",
    "      xlabel=\"Month\")\n",
    "plt.xticks(np.arange(0,12), ['Jan','Feb','Mar','Apr','May','Jun','Jul','Aug','Sept','Oct','Nov','Dec'])\n",
    "plt.show()"
   ]
  },
  {
   "cell_type": "markdown",
   "id": "d5c3ec98-30a3-4906-a622-535008a3be4b",
   "metadata": {},
   "source": [
    "August seems to be the prefer month for the customers to place their orders"
   ]
  },
  {
   "cell_type": "code",
   "execution_count": null,
   "id": "b0898afd",
   "metadata": {
    "vscode": {
     "languageId": "python"
    }
   },
   "outputs": [],
   "source": [
    "data.groupby(data['order_purchase_timestamp'].dt.month).agg({\"payment_value\": \"sum\"}).plot(figsize=(12,8), kind=\"bar\",\n",
    "      title=\"Payment value per month\",\n",
    "      ylabel=\"Payment Value\",\n",
    "      xlabel=\"Month\")\n",
    "plt.xticks(np.arange(0,12), ['Jan','Feb','Mar','Apr','May','Jun','Jul','Aug','Sept','Oct','Nov','Dec'])\n",
    "plt.show()"
   ]
  },
  {
   "cell_type": "markdown",
   "id": "1e49e655-7437-4a22-b6b9-4039fb8d055f",
   "metadata": {},
   "source": [
    "the month of may seems to be the prefer spending month for the customers"
   ]
  },
  {
   "cell_type": "code",
   "execution_count": null,
   "id": "8b1add2c",
   "metadata": {
    "vscode": {
     "languageId": "python"
    }
   },
   "outputs": [],
   "source": [
    "data.groupby(data['order_purchase_timestamp'].dt.hour).agg({\"payment_value\": \"mean\"}).plot(figsize = (12,8), kind=\"bar\",\n",
    "                                                                                           title=\"Payment Value Mean per hour\",\n",
    "                                                                                           ylabel=\"Payment Value Mean\",\n",
    "                                                                                           xlabel=\"Hour\")\n",
    "plt.show()"
   ]
  },
  {
   "cell_type": "markdown",
   "id": "492b72b2-d9a6-4d93-b629-b73ccf5c84ff",
   "metadata": {},
   "source": [
    "the value of payments seems moderately higher for orders placed between 9am and 6pm."
   ]
  },
  {
   "cell_type": "code",
   "execution_count": null,
   "id": "6b5a85b9",
   "metadata": {
    "vscode": {
     "languageId": "python"
    }
   },
   "outputs": [],
   "source": [
    "data.groupby(data['order_purchase_timestamp'].dt.dayofweek).agg({\"payment_value\": \"mean\"}).plot(figsize = (12,8), kind=\"bar\",\n",
    "                                                                                                title=\"Payment Value Mean per day\",\n",
    "                                                                                                ylabel=\"Payment Value Mean\",\n",
    "                                                                                                xlabel=\"Weekday\")\n",
    "plt.show()"
   ]
  },
  {
   "cell_type": "markdown",
   "id": "2617e30d-7daa-4674-a6e2-2850ac6ba7e1",
   "metadata": {},
   "source": [
    "There is not too much variation between week day purchase even if there slightly more purchase on friday and saturday."
   ]
  },
  {
   "cell_type": "code",
   "execution_count": null,
   "id": "24815cf2",
   "metadata": {
    "vscode": {
     "languageId": "python"
    }
   },
   "outputs": [],
   "source": [
    "bar_data=data.groupby(\"customer_city\")[\"customer_id\"].count().sort_values(ascending=False).head(7)\n",
    "sns.barplot(x = bar_data.index, y = bar_data.values)"
   ]
  },
  {
   "cell_type": "markdown",
   "id": "35e0ce04-6a7e-4974-9b3f-1ce47a3842e9",
   "metadata": {},
   "source": [
    "Sao paulo has the largest number of customer."
   ]
  },
  {
   "cell_type": "code",
   "execution_count": null,
   "id": "3ff99028",
   "metadata": {
    "vscode": {
     "languageId": "python"
    }
   },
   "outputs": [],
   "source": [
    "payment_value = data.groupby([\"payment_type\"]).agg({\"payment_value\": \"mean\"}).reset_index()\n",
    "\n",
    "payment_value"
   ]
  },
  {
   "cell_type": "code",
   "execution_count": null,
   "id": "ff35a262",
   "metadata": {
    "vscode": {
     "languageId": "python"
    }
   },
   "outputs": [],
   "source": [
    "import plotly.offline as py\n",
    "trace0 = go.Bar(\n",
    "    x=payment_value[\"payment_type\"].values,\n",
    "    y=payment_value[\"payment_value\"].values,\n",
    "    marker=dict(\n",
    "        color=['rgba(36,123,160,1)', \n",
    "               'rgba(75,147,177,1)',\n",
    "               'rgba(112,193,179,1)', \n",
    "               'rgba(138,204,192,1)',\n",
    "               'rgba(243,255,189,1)',\n",
    "               'rgba(247,255,213,1)',\n",
    "               'rgba(255,22,84,1)']),\n",
    ")\n",
    "\n",
    "df= [trace0]\n",
    "\n",
    "layout = go.Layout(\n",
    "    title='Revenue',\n",
    ")\n",
    "\n",
    "fig = go.Figure(data=df, layout=layout)\n",
    "py.iplot(fig)"
   ]
  },
  {
   "cell_type": "markdown",
   "id": "f9884671-4904-4362-9844-f2631d94cb05",
   "metadata": {},
   "source": [
    "The most of payment has been made by credit_card"
   ]
  },
  {
   "cell_type": "markdown",
   "id": "d91f904f-38b9-4fdf-85a2-e7ce150d841d",
   "metadata": {},
   "source": [
    "<a id=\"out\"></a>\n",
    "## <span style=\"color:#33afff  ;\">  Outliers </span>"
   ]
  },
  {
   "cell_type": "markdown",
   "id": "a607a173-7f2a-4cfb-a3a3-405771baa9e2",
   "metadata": {},
   "source": [
    "Let's drop the Outliers on payment value"
   ]
  },
  {
   "cell_type": "code",
   "execution_count": null,
   "id": "a8cb1718",
   "metadata": {
    "vscode": {
     "languageId": "python"
    }
   },
   "outputs": [],
   "source": [
    "def remove_outliers(data: pd.DataFrame, columns_of_interest: List[Union[str, int]]) -> pd.DataFrame:\n",
    "    \"\"\"\n",
    "    Removes outliers from the specified columns of a DataFrame using the Interquartile Range (IQR) method.\n",
    "\n",
    "    Args:\n",
    "        data (pd.DataFrame): The DataFrame containing the data.\n",
    "        columns_of_interest (List[Union[str, int]]): A list of column names or indices to consider for outlier removal.\n",
    "\n",
    "    Returns:\n",
    "        pd.DataFrame: The DataFrame with outliers removed.\n",
    "\n",
    "    Raises:\n",
    "        None.\n",
    "    \"\"\"\n",
    "\n",
    "    df = data.copy()\n",
    "    for col in df[columns_of_interest].select_dtypes(include=\"number\").columns:\n",
    "        Q1 = df[col].quantile(0.25)\n",
    "        Q3 = df[col].quantile(0.75)\n",
    "        IQR = Q3 - Q1\n",
    "        print(\"Interquartile Range for {} is {}\".format(col, IQR))\n",
    "        df = df[~((df[col] < (Q1 - 1.5 * IQR)) | (df[col] > (Q3 + 1.5 * IQR)))].reset_index(drop=True)\n",
    "\n",
    "    return df"
   ]
  },
  {
   "cell_type": "code",
   "execution_count": null,
   "id": "d86399fe",
   "metadata": {
    "vscode": {
     "languageId": "python"
    }
   },
   "outputs": [],
   "source": [
    "df = IQR_outliers(data, [\"payment_value\"])\n",
    "df.shape"
   ]
  },
  {
   "cell_type": "markdown",
   "id": "aaf747a0-bf12-4401-9352-522d99ce7bd3",
   "metadata": {},
   "source": [
    "<a id=\"FEV\"></a>\n",
    "# <h1 style=\"background-color:#82e0aa ;padding:18px;border-radius:10px;border:3px solid #3339ff;color:#21618c;text-align:center\" >Feature Engineering and Visualization</h1>"
   ]
  },
  {
   "cell_type": "markdown",
   "id": "c3f4694b-4f48-454c-9cc4-5dfb6b6fa5d9",
   "metadata": {},
   "source": [
    "<a id=\"features\"></a>\n",
    "## <span style=\"color:#33afff  ;\"> Feature Engineering </span>"
   ]
  },
  {
   "cell_type": "code",
   "execution_count": null,
   "id": "faedd124",
   "metadata": {
    "scrolled": true,
    "tags": [],
    "vscode": {
     "languageId": "python"
    }
   },
   "outputs": [],
   "source": [
    "df[\"delivery_delay\"] = (df.order_delivered_customer_date - df.order_purchase_timestamp).dt.round('1d').dt.days"
   ]
  },
  {
   "cell_type": "code",
   "execution_count": null,
   "id": "cccf861d",
   "metadata": {
    "vscode": {
     "languageId": "python"
    }
   },
   "outputs": [],
   "source": [
    "def barplot(df: pd.DataFrame, features: List[str], x: str, y: bool = False) -> None:\n",
    "    \"\"\"\n",
    "    Creates barplots for each feature in a DataFrame.\n",
    "\n",
    "    Args:\n",
    "        df (pd.DataFrame): The DataFrame containing the data.\n",
    "        features (List[str]): A list of feature names.\n",
    "        x (str): The column name to use for the x-axis of the barplots.\n",
    "        y (bool, optional): Whether to use the y-axis or not. Defaults to False.\n",
    "\n",
    "    Returns:\n",
    "        None: Displays the barplots.\n",
    "\n",
    "    Raises:\n",
    "        barplot\n",
    "    \"\"\"\n",
    "\n",
    "    for feature in features:\n",
    "        plt.figure(figsize=(10, 10))\n",
    "        sns.barplot(data=df, x=x, y=feature, errorbar=\"sd\")\n",
    "        plt.title(f\"{feature} barplot by {x}\")\n",
    "        plt.show()"
   ]
  },
  {
   "cell_type": "code",
   "execution_count": null,
   "id": "49ddebca-9cf8-4662-9369-324a02a4f513",
   "metadata": {
    "vscode": {
     "languageId": "python"
    }
   },
   "outputs": [],
   "source": [
    "font_dict = {\"family\": \"serif\",\n",
    "              \"color\":  \"#077df2\",\n",
    "              \"weight\": \"bold\",\n",
    "              \"size\": 18}\n",
    "fig = plt.figure(figsize=(12, 8))\n",
    "sns.histplot(df.groupby(\"customer_unique_id\").agg({\"order_id\": \"nunique\"}),\n",
    "             x=\"order_id\",  edgecolor=\"black\", color=\"#062ef4\", alpha=0.8)\n",
    "plt.xlabel(\"Number of orders\")\n",
    "plt.ylabel(\"Number of customers\")\n",
    "plt.title(f\"Distribution of the number of order by customer\",\n",
    "          fontdict=font_dict)\n",
    "plt.show()"
   ]
  },
  {
   "cell_type": "markdown",
   "id": "f18d4050-9714-4ca2-baf2-596cf9c2496f",
   "metadata": {},
   "source": [
    "As we can see, the most of customer have order only one time in the concerned period."
   ]
  },
  {
   "cell_type": "code",
   "execution_count": null,
   "id": "a8215fcc-3cf7-4166-8bcb-238a3b37a16a",
   "metadata": {
    "tags": [],
    "vscode": {
     "languageId": "python"
    }
   },
   "outputs": [],
   "source": [
    "fig = plt.figure(figsize=(12, 8))\n",
    "sns.histplot(df.groupby(\"customer_unique_id\").agg({\"customer_id\": \"nunique\"}),\n",
    "             x=\"customer_id\",  edgecolor=\"black\", color=\"#062ef4\", alpha=0.8)\n",
    "plt.xlabel(\"Customers\")\n",
    "plt.ylabel(\"Number of customers\")\n",
    "plt.title(f\"Distribution of the number of order by customer\",\n",
    "          fontdict=font_dict)\n",
    "plt.show()"
   ]
  },
  {
   "cell_type": "code",
   "execution_count": null,
   "id": "9e58bb95-8b1a-40f1-b1f8-affbd8f46b7d",
   "metadata": {
    "vscode": {
     "languageId": "python"
    }
   },
   "outputs": [],
   "source": [
    "daily_orders = df.groupby(df[\"order_purchase_timestamp\"].dt.date).count()[\"order_id\"]\n",
    "fig = plt.figure(figsize=(15, 8))\n",
    "ax = daily_orders.plot(color=\"#0aa5d3\")\n",
    "ax.set_xlabel(\"Date\")\n",
    "ax.set_ylabel(\"Number of orders\")\n",
    "plt.title(f\"Daily order Trend\",  fontdict=font_dict)\n",
    "plt.show()"
   ]
  },
  {
   "cell_type": "markdown",
   "id": "abc06e95-e66e-4e47-866f-e9e106774657",
   "metadata": {},
   "source": [
    "The customer order growth slightly."
   ]
  },
  {
   "cell_type": "markdown",
   "id": "32a3fe98-c380-4d65-abae-52b94de3302f",
   "metadata": {},
   "source": [
    "Let's calculate the distance between customer and seller which have some effec in customer order choice."
   ]
  },
  {
   "cell_type": "code",
   "execution_count": null,
   "id": "b9e764ba-4b7b-4829-8db0-40bf55e16ea9",
   "metadata": {
    "vscode": {
     "languageId": "python"
    }
   },
   "outputs": [],
   "source": [
    "def haversine_vectorize(lon1: Union[float, np.ndarray], lat1: Union[float, np.ndarray],\n",
    "                        lon2: Union[float, np.ndarray], lat2: Union[float, np.ndarray]) -> Union[float, np.ndarray]:\n",
    "    \"\"\"\n",
    "    Calculates the distance between two places using their geographical coordinates.\n",
    "\n",
    "    Args:\n",
    "        lon1 (float or np.ndarray): Longitude of the first place.\n",
    "        lat1 (float or np.ndarray): Latitude of the first place.\n",
    "        lon2 (float or np.ndarray): Longitude of the second place.\n",
    "        lat2 (float or np.ndarray): Latitude of the second place.\n",
    "\n",
    "    Returns:\n",
    "        float or np.ndarray: The calculated distance between the two places in kilometers.\n",
    "\n",
    "    Raises:\n",
    "        None.\n",
    "    \"\"\"\n",
    "\n",
    "    lon1, lat1, lon2, lat2 = map(np.radians, [lon1, lat1, lon2, lat2])\n",
    "\n",
    "    newlon = lon2 - lon1\n",
    "    newlat = lat2 - lat1\n",
    "\n",
    "    haver_formula = np.sin(newlat / 2.0) ** 2 + np.cos(lat1) * np.cos(lat2) * np.sin(newlon / 2.0) ** 2\n",
    "\n",
    "    dist = 2 * np.arcsin(np.sqrt(haver_formula))\n",
    "    km = 6367 * dist  # 6367 for distance in KM, for miles use 3958\n",
    "\n",
    "    return km"
   ]
  },
  {
   "cell_type": "code",
   "execution_count": null,
   "id": "9b010778-7115-41d0-86db-c4ee56d27693",
   "metadata": {
    "vscode": {
     "languageId": "python"
    }
   },
   "outputs": [],
   "source": [
    "df[\"distance\"] = haversine_vectorize(df.customer_lng,df.customer_lat,df.seller_lng,df.seller_lat)"
   ]
  },
  {
   "cell_type": "markdown",
   "id": "c575f9d7-3631-44b5-b6c8-2630dd4b0103",
   "metadata": {},
   "source": [
    "Now we can collect some information on customer by grouping."
   ]
  },
  {
   "cell_type": "code",
   "execution_count": null,
   "id": "34cc78b4",
   "metadata": {
    "vscode": {
     "languageId": "python"
    }
   },
   "outputs": [],
   "source": [
    "df_customer = df.groupby(\"customer_unique_id\").agg(recency=(\"order_purchase_timestamp\", lambda x: (df['order_purchase_timestamp'].max() + timedelta(days=1) - x.max()).days),\n",
    "                                                  frequency=(\"customer_id\",  \"nunique\"), \n",
    "                                                  monetary=(\"payment_value\", \"mean\"),\n",
    "                                                  score = ('review_score', 'mean'),\n",
    "                                                  price = ('price' , 'mean'),\n",
    "                                                  freight = ('freight_value' , 'mean'),\n",
    "                                                  sequential_pay_number = ('payment_sequential', \"mean\"),\n",
    "                                                  payment_installment = (\"payment_installments\", \"mean\"),\n",
    "                                                  mean_delivery_delay = (\"delivery_delay\" , \"mean\"),\n",
    "                                                  number_of_pic = ('product_photos_qty', \"mean\"),\n",
    "                                                  description_lenght = ( 'product_description_lenght', \"mean\"),\n",
    "                                                  lenght = ('product_length_cm', \"mean\"),\n",
    "                                                  width = ('product_width_cm' , \"mean\"),\n",
    "                                                  weight = ('product_weight_g' , \"mean\"),\n",
    "                                                  height = ('product_height_cm' , \"mean\"),\n",
    "                                                  name_lenght = ('product_name_lenght' , \"mean\") , \n",
    "                                                  mean_distance = (\"distance\" , \"mean\"),\n",
    "                                                  total_freight = ('freight_value' , 'mean'),\n",
    "                                                  total_spend=(\"payment_value\", \"sum\"),\n",
    "                                                  item_value=(\"price\", \"sum\")\n",
    "                                                  )\n",
    "\n",
    "df_customer[\"freight_ratio\"] = df_customer[\"total_freight\"] / df_customer[\"total_spend\"]\n",
    "df_customer[\"price_ratio\"] = df_customer[\"item_value\"] / df_customer[\"total_spend\"]\n",
    "df_customer.drop([\"total_freight\", \"total_spend\", \"item_value\"], axis=1, inplace=True)                                                  \n",
    "df_customer.shape"
   ]
  },
  {
   "cell_type": "markdown",
   "id": "c79a92d1-3fd0-49c1-aeed-8886bfa0c116",
   "metadata": {},
   "source": [
    "<a id=\"viz\"></a>\n",
    "## <span style=\"color:#33afff  ;\"> Visualization </span>"
   ]
  },
  {
   "cell_type": "code",
   "execution_count": null,
   "id": "6fb77dd5-e9e3-4fb5-9dc5-eefe40858324",
   "metadata": {
    "vscode": {
     "languageId": "python"
    }
   },
   "outputs": [],
   "source": [
    "def create_boxplot(df: pd.DataFrame, features: List[str]) -> None:\n",
    "    \"\"\"\n",
    "    Creates boxplots for numerical features in a DataFrame.\n",
    "\n",
    "    Args:\n",
    "        df (pd.DataFrame): The DataFrame containing the data.\n",
    "        features (List[str]): A list of numerical feature names.\n",
    "\n",
    "    Returns:\n",
    "        None: Displays the boxplots.\n",
    "\n",
    "    Raises:\n",
    "       None.\n",
    "    \"\"\"\n",
    "\n",
    "    num_features = len(features)\n",
    "    fig, ax = plt.subplots(int(np.ceil(num_features / 2)), 2, figsize=(18, 15))\n",
    "    plt.suptitle('Numerical Features Boxplot', size=20)\n",
    "    ytop = 0.96 - 0.4 * np.exp(-num_features / 5)\n",
    "    plt.subplots_adjust(top=ytop)\n",
    "    medianprops = dict(linestyle=\"-\", linewidth=2, color=\"yellow\")\n",
    "\n",
    "    for feature, subplot in zip(features, ax.flatten()):\n",
    "        sns.set(font_scale=1)\n",
    "        sns.boxplot(x=df[feature], color='#009ACD', saturation=1,\n",
    "                    medianprops=medianprops,\n",
    "                    flierprops={\"markerfacecolor\": \"mediumseagreen\"},\n",
    "                    whis=1.5, ax=subplot)\n",
    "        subplot.set_title(f'Boxplot: {feature}')\n",
    "        subplot.set_xlabel(feature, size=12)\n",
    "\n",
    "    fig.tight_layout()\n",
    "    plt.show()"
   ]
  },
  {
   "cell_type": "code",
   "execution_count": null,
   "id": "e2439d23-a4a8-4d91-a838-7308b02a4624",
   "metadata": {
    "vscode": {
     "languageId": "python"
    }
   },
   "outputs": [],
   "source": [
    "boxplot(df_customer, df_customer.columns)"
   ]
  },
  {
   "cell_type": "markdown",
   "id": "c8848496-890a-4b68-b0e4-ccbaffaf9c4b",
   "metadata": {},
   "source": [
    "Some features such as <code>recency, monetary, score, lenght, description_lenght mean_distance, mean_delivery_delay,...</code> are well distributed among the customer.\n",
    "\n",
    "This observation show that all these features can be a good factor in our customer segmentation."
   ]
  },
  {
   "cell_type": "code",
   "execution_count": null,
   "id": "cca10691",
   "metadata": {
    "vscode": {
     "languageId": "python"
    }
   },
   "outputs": [],
   "source": [
    "barplot(df_customer, df_customer.columns, x = \"frequency\")"
   ]
  },
  {
   "cell_type": "code",
   "execution_count": null,
   "id": "c973228b",
   "metadata": {
    "scrolled": true,
    "tags": [],
    "vscode": {
     "languageId": "python"
    }
   },
   "outputs": [],
   "source": [
    "df_customer.hist(figsize=(20,20), layout=(7,3), alpha=1, color='#4682b4', ec=\"k\")\n",
    "plt.tight_layout()\n",
    "plt.show()"
   ]
  },
  {
   "cell_type": "code",
   "execution_count": null,
   "id": "cf33f260",
   "metadata": {
    "scrolled": true,
    "tags": [],
    "vscode": {
     "languageId": "python"
    }
   },
   "outputs": [],
   "source": [
    "plt.figure(figsize=(20, 20))\n",
    "sns.boxplot(data=df_customer, x= \"frequency\", y='monetary', dodge=True)\n",
    "plt.show()"
   ]
  },
  {
   "cell_type": "code",
   "execution_count": null,
   "id": "33c91192",
   "metadata": {
    "vscode": {
     "languageId": "python"
    }
   },
   "outputs": [],
   "source": [
    "plt.figure(figsize=(20, 20))\n",
    "sns.boxplot(data=df_customer, x= \"frequency\", y='monetary', dodge=True)\n",
    "plt.show()"
   ]
  },
  {
   "cell_type": "code",
   "execution_count": null,
   "id": "3982577d-2a4c-48a6-86ef-71761ae3e1a3",
   "metadata": {
    "vscode": {
     "languageId": "python"
    }
   },
   "outputs": [],
   "source": [
    "corr = df_customer.corr()\n",
    "fig = ff.create_annotated_heatmap(\n",
    "    z=corr.to_numpy().round(2),\n",
    "    x=list(corr.index.values),\n",
    "    y=list(corr.columns.values),       \n",
    "    xgap=3, ygap=3,\n",
    "    zmin=-1, zmax=1,\n",
    "    colorscale='earth',\n",
    "    colorbar_thickness=30,\n",
    "    colorbar_ticklen=3,\n",
    ")\n",
    "fig.update_layout(title_text='<b>Annotated correlation Matrix heatmap<b>',\n",
    "                  title_x=0.5,\n",
    "                  titlefont={'size': 24},\n",
    "                  width=1200, height=850,\n",
    "                  xaxis_showgrid=False,\n",
    "                  xaxis={'side': 'bottom'},\n",
    "                  yaxis_showgrid=False,\n",
    "                  yaxis_autorange='reversed',                   \n",
    "                  paper_bgcolor=None,\n",
    "                  )\n",
    "fig.show()"
   ]
  },
  {
   "cell_type": "markdown",
   "id": "84a071c1-c9b1-4585-bd40-a8b96530daab",
   "metadata": {},
   "source": [
    "Monetary pays and price are too much correlated. freight ration and price alse are too much corellated.\n",
    "\n",
    "So, in our attempt to cluster ou customers, we need to take into account this corellation"
   ]
  },
  {
   "cell_type": "markdown",
   "id": "9914010a-8933-47d1-b3e2-50616f014fb5",
   "metadata": {},
   "source": [
    "<a id=\"export\"></a>\n",
    "# <h1 style=\"background-color:#82e0aa ;padding:18px;border-radius:10px;border:3px solid #3339ff;color:#21618c;text-align:center\" >Export DataFrames</h1>"
   ]
  },
  {
   "cell_type": "code",
   "execution_count": null,
   "id": "2ee47dbb-02ee-4559-b0c3-937de56b23c2",
   "metadata": {
    "vscode": {
     "languageId": "python"
    }
   },
   "outputs": [],
   "source": [
    "data = df_customer.to_csv(\"customer_profile.csv\")"
   ]
  },
  {
   "cell_type": "code",
   "execution_count": null,
   "id": "ace0b768-231c-4fd7-8212-32b188506fb0",
   "metadata": {
    "vscode": {
     "languageId": "python"
    }
   },
   "outputs": [],
   "source": [
    "olist_data = df.to_csv(\"olist_data.csv\", index=False)"
   ]
  },
  {
   "cell_type": "markdown",
   "id": "762b4028-b556-437e-958a-67b382edeea9",
   "metadata": {},
   "source": [
    "let's test some alogrithm now"
   ]
  }
 ],
 "metadata": {
  "kernelspec": {
   "display_name": "nlp",
   "language": "python",
   "name": "nlp"
  },
  "language_info": {
   "codemirror_mode": {
    "name": "ipython",
    "version": 3
   },
   "file_extension": ".py",
   "mimetype": "text/x-python",
   "name": "python",
   "nbconvert_exporter": "python",
   "pygments_lexer": "ipython3",
   "version": "3.10.9"
  },
  "vscode": {
   "interpreter": {
    "hash": "f6ba6ce970f86afa6dfece4816097c5c7e47bfc6e04710d5415156d0b0b92c38"
   }
  }
 },
 "nbformat": 4,
 "nbformat_minor": 5
}
